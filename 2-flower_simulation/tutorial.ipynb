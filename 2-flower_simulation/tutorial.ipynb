{
 "cells": [
  {
   "attachments": {},
   "cell_type": "markdown",
   "metadata": {
    "id": "P-iD0bgbXDdC"
   },
   "source": [
    "Welcome to the 30 minutes Flower federated learning tutorial!\n",
    "\n",
    "In this tutorial you will implement your first Federated Learning project using Flower.\n",
    "\n",
    "🧑‍🏫 This tutorial starts at zero and expects no familiarity with federated learning. Only a basic understanding of data science and Python programming is assumed. A minimal understanding of ML is not required but if you already know abou it, nothing is stopping your from modifying this code as you see fit!\n",
    "\n",
    "> Star Flower on [GitHub ⭐️](https://github.com/adap/flower) and join the Flower community on Slack to connect, ask questions, and get help: [Join Slack 🌼](https://flower.dev/join-slack/). We'd love to hear from you in the #introductions channel! And if anything is unclear, head over to the #questions channel.\n",
    "\n",
    "Let's get stated!"
   ]
  },
  {
   "attachments": {},
   "cell_type": "markdown",
   "metadata": {
    "id": "jfy1EuX7Xzfg"
   },
   "source": [
    "# Environment Setup\n",
    "\n",
    "To start working with Flower, very little is required once you have activated your Python environment (e.g. via `conda`, `virtualenv`, `pyenv`, etc). If you are running this code on Colab, there is really nothing to do except to install Flower and other dependencies. The steps below have been verified to run in Colab. Let's first, install Flower, then the ML framework of your choice and extra dependencies you might want to use.\n",
    "\n",
    "## Installing Flower\n",
    "\n",
    "You can install flower very conveniently from `pip`:"
   ]
  },
  {
   "cell_type": "code",
   "execution_count": 23,
   "metadata": {
    "id": "Gc_GOyNXXB35"
   },
   "outputs": [
    {
     "name": "stderr",
     "output_type": "stream",
     "text": [
      "\n",
      "[notice] A new release of pip is available: 23.1.2 -> 23.2.1\n",
      "[notice] To update, run: python.exe -m pip install --upgrade pip\n",
      "\n",
      "[notice] A new release of pip is available: 23.1.2 -> 23.2.1\n",
      "[notice] To update, run: python.exe -m pip install --upgrade pip\n",
      "\n",
      "[notice] A new release of pip is available: 23.1.2 -> 23.2.1\n",
      "[notice] To update, run: python.exe -m pip install --upgrade pip\n"
     ]
    }
   ],
   "source": [
    "# depending on your shell, you might need to add `\\` before `[` and `]`.\n",
    "!pip install -q flwr[simulation]"
   ]
  },
  {
   "attachments": {},
   "cell_type": "markdown",
   "metadata": {
    "id": "y58HdudsYWQP"
   },
   "source": [
    "We will be using the _simulation_ model in Flower, which allows you to run a large number of clients without the overheads of manually managing devices. This is achieved via the [Virtual Client Engine]() in Flower. With simulation, you can dynamically scale your experiments whether you run the code on your laptop, a machine with a single GPU, a server with multiple GPUs os even on a cluster with multiple servers. The `Virtual Client Engine` handles everyting transparently and it allows you to specify how many resources (e.g. CPU cores, GPU VRAM) should be assigned to each virtual client."
   ]
  },
  {
   "attachments": {},
   "cell_type": "markdown",
   "metadata": {
    "id": "2rkzo1M9a0io"
   },
   "source": [
    "## Install your ML framework\n",
    "\n",
    "Flower is agnostic to your choice of ML Framework. Flower works with `PyTorch`, `Tensorflow`, `NumPy`, `🤗 Transformers`, `MXNet`, `JAX`, `scikit-learn`, `fastai`, `Pandas`. Flower also supports all major platforms: `iOS`, `Android` and plain `C++`. You can find a _quickstart- example for each of the above in the [Flower Repository](https://github.com/adap/flower/tree/main/examples) inside the `examples/` directory.\n",
    "\n",
    "In this tutorial we are going to use PyTorch, so let's install a recent version. In this tutorial we'll use a small model so using CPU only training will suffice (this will also prevent Colab from abrumptly terminating your experiment if resource limits are exceeded)"
   ]
  },
  {
   "cell_type": "code",
   "execution_count": 2,
   "metadata": {
    "colab": {
     "base_uri": "https://localhost:8080/"
    },
    "id": "lqrJYPbZZ8aM",
    "outputId": "7192138a-8c87-4d9a-f726-af1038ad264c"
   },
   "outputs": [
    {
     "name": "stdout",
     "output_type": "stream",
     "text": [
      "Looking in indexes: https://pypi.org/simple, https://download.pytorch.org/whl/cpu\n",
      "Collecting torch==1.13.1+cpu\n",
      "  Downloading https://download.pytorch.org/whl/cpu/torch-1.13.1%2Bcpu-cp310-cp310-win_amd64.whl (164.2 MB)\n",
      "                                              0.0/164.2 MB ? eta -:--:--\n",
      "                                              0.0/164.2 MB ? eta -:--:--\n",
      "                                            0.0/164.2 MB 262.6 kB/s eta 0:10:26\n",
      "                                            0.0/164.2 MB 245.8 kB/s eta 0:11:08\n",
      "                                            0.1/164.2 MB 328.2 kB/s eta 0:08:20\n",
      "                                            0.1/164.2 MB 353.1 kB/s eta 0:07:45\n",
      "                                            0.1/164.2 MB 308.0 kB/s eta 0:08:53\n",
      "                                            0.1/164.2 MB 327.2 kB/s eta 0:08:22\n",
      "                                            0.1/164.2 MB 342.3 kB/s eta 0:08:00\n",
      "                                            0.2/164.2 MB 366.6 kB/s eta 0:07:28\n",
      "                                            0.2/164.2 MB 388.2 kB/s eta 0:07:03\n",
      "                                            0.2/164.2 MB 389.1 kB/s eta 0:07:02\n",
      "                                            0.2/164.2 MB 385.7 kB/s eta 0:07:06\n",
      "                                            0.3/164.2 MB 413.7 kB/s eta 0:06:37\n",
      "                                            0.3/164.2 MB 463.3 kB/s eta 0:05:54\n",
      "                                            0.3/164.2 MB 491.2 kB/s eta 0:05:34\n",
      "                                            0.4/164.2 MB 541.2 kB/s eta 0:05:03\n",
      "                                            0.5/164.2 MB 576.9 kB/s eta 0:04:44\n",
      "                                            0.5/164.2 MB 581.3 kB/s eta 0:04:42\n",
      "                                            0.5/164.2 MB 584.1 kB/s eta 0:04:41\n",
      "                                            0.6/164.2 MB 610.8 kB/s eta 0:04:28\n",
      "                                            0.6/164.2 MB 634.1 kB/s eta 0:04:18\n",
      "                                            0.7/164.2 MB 685.4 kB/s eta 0:03:59\n",
      "                                            0.8/164.2 MB 770.6 kB/s eta 0:03:32\n",
      "                                            1.0/164.2 MB 858.7 kB/s eta 0:03:11\n",
      "                                            1.0/164.2 MB 906.4 kB/s eta 0:03:00\n",
      "                                            1.1/164.2 MB 910.8 kB/s eta 0:03:00\n",
      "                                            1.2/164.2 MB 929.4 kB/s eta 0:02:56\n",
      "                                            1.3/164.2 MB 963.2 kB/s eta 0:02:50\n",
      "                                              1.4/164.2 MB 1.0 MB/s eta 0:02:41\n",
      "                                              1.6/164.2 MB 1.1 MB/s eta 0:02:27\n",
      "                                              1.8/164.2 MB 1.3 MB/s eta 0:02:10\n",
      "                                              2.1/164.2 MB 1.4 MB/s eta 0:01:57\n",
      "                                              2.2/164.2 MB 1.5 MB/s eta 0:01:51\n",
      "                                              2.3/164.2 MB 1.5 MB/s eta 0:01:50\n",
      "                                              2.4/164.2 MB 1.5 MB/s eta 0:01:47\n",
      "                                              2.6/164.2 MB 1.6 MB/s eta 0:01:42\n",
      "                                              2.9/164.2 MB 1.7 MB/s eta 0:01:36\n",
      "                                              3.4/164.2 MB 1.9 MB/s eta 0:01:25\n",
      "                                              3.9/164.2 MB 2.2 MB/s eta 0:01:15\n",
      "     -                                        4.5/164.2 MB 2.4 MB/s eta 0:01:07\n",
      "     -                                        4.6/164.2 MB 2.4 MB/s eta 0:01:06\n",
      "     -                                        4.9/164.2 MB 2.5 MB/s eta 0:01:05\n",
      "     -                                        5.1/164.2 MB 2.5 MB/s eta 0:01:03\n",
      "     -                                        5.6/164.2 MB 2.7 MB/s eta 0:00:59\n",
      "     -                                        6.1/164.2 MB 2.9 MB/s eta 0:00:55\n",
      "     -                                        6.9/164.2 MB 3.2 MB/s eta 0:00:50\n",
      "     -                                        7.8/164.2 MB 3.5 MB/s eta 0:00:45\n",
      "     --                                       8.9/164.2 MB 3.9 MB/s eta 0:00:40\n",
      "     --                                       9.6/164.2 MB 4.2 MB/s eta 0:00:38\n",
      "     --                                      10.1/164.2 MB 4.3 MB/s eta 0:00:36\n",
      "     --                                      10.4/164.2 MB 5.3 MB/s eta 0:00:29\n",
      "     --                                      10.6/164.2 MB 5.9 MB/s eta 0:00:27\n",
      "     --                                      10.7/164.2 MB 6.1 MB/s eta 0:00:26\n",
      "     --                                      11.6/164.2 MB 8.5 MB/s eta 0:00:18\n",
      "     ---                                    14.6/164.2 MB 11.7 MB/s eta 0:00:13\n",
      "     ---                                    15.5/164.2 MB 13.4 MB/s eta 0:00:12\n",
      "     ---                                    16.4/164.2 MB 14.2 MB/s eta 0:00:11\n",
      "     ----                                   17.3/164.2 MB 14.6 MB/s eta 0:00:11\n",
      "     ----                                   18.4/164.2 MB 14.6 MB/s eta 0:00:11\n",
      "     ----                                   19.5/164.2 MB 14.9 MB/s eta 0:00:10\n",
      "     ----                                   20.3/164.2 MB 15.6 MB/s eta 0:00:10\n",
      "     ----                                   20.8/164.2 MB 16.4 MB/s eta 0:00:09\n",
      "     ----                                   20.9/164.2 MB 16.4 MB/s eta 0:00:09\n",
      "     ----                                   21.1/164.2 MB 16.0 MB/s eta 0:00:09\n",
      "     ----                                   21.4/164.2 MB 15.2 MB/s eta 0:00:10\n",
      "     -----                                  22.7/164.2 MB 15.2 MB/s eta 0:00:10\n",
      "     -----                                  23.7/164.2 MB 15.6 MB/s eta 0:00:10\n",
      "     -----                                  24.5/164.2 MB 15.2 MB/s eta 0:00:10\n",
      "     -----                                  25.3/164.2 MB 15.2 MB/s eta 0:00:10\n",
      "     ------                                 26.2/164.2 MB 15.2 MB/s eta 0:00:10\n",
      "     ------                                 27.2/164.2 MB 15.2 MB/s eta 0:00:09\n",
      "     ------                                 28.3/164.2 MB 15.2 MB/s eta 0:00:09\n",
      "     ------                                 28.9/164.2 MB 15.6 MB/s eta 0:00:09\n",
      "     ------                                 28.9/164.2 MB 15.6 MB/s eta 0:00:09\n",
      "     ------                                 28.9/164.2 MB 15.6 MB/s eta 0:00:09\n",
      "     ------                                 28.9/164.2 MB 15.6 MB/s eta 0:00:09\n",
      "     ------                                 28.9/164.2 MB 15.6 MB/s eta 0:00:09\n",
      "     ------                                 28.9/164.2 MB 15.6 MB/s eta 0:00:09\n",
      "     ------                                 28.9/164.2 MB 15.6 MB/s eta 0:00:09\n",
      "     ------                                 28.9/164.2 MB 15.6 MB/s eta 0:00:09\n",
      "     ------                                 28.9/164.2 MB 15.6 MB/s eta 0:00:09\n",
      "     ------                                 28.9/164.2 MB 15.6 MB/s eta 0:00:09\n",
      "     ------                                 28.9/164.2 MB 15.6 MB/s eta 0:00:09\n",
      "     ------                                 28.9/164.2 MB 15.6 MB/s eta 0:00:09\n",
      "     ------                                  29.5/164.2 MB 8.3 MB/s eta 0:00:17\n",
      "     -------                                 30.7/164.2 MB 8.4 MB/s eta 0:00:16\n",
      "     -------                                 32.4/164.2 MB 9.9 MB/s eta 0:00:14\n",
      "     -------                                 32.5/164.2 MB 9.9 MB/s eta 0:00:14\n",
      "     -------                                 32.7/164.2 MB 9.5 MB/s eta 0:00:14\n",
      "     -------                                 32.7/164.2 MB 9.0 MB/s eta 0:00:15\n",
      "     -------                                 32.9/164.2 MB 8.7 MB/s eta 0:00:16\n",
      "     -------                                 33.2/164.2 MB 8.4 MB/s eta 0:00:16\n",
      "     --------                                34.9/164.2 MB 8.8 MB/s eta 0:00:15\n",
      "     ---------                              40.2/164.2 MB 25.2 MB/s eta 0:00:05\n",
      "     ---------                              41.3/164.2 MB 25.2 MB/s eta 0:00:05\n",
      "     ---------                              42.3/164.2 MB 24.2 MB/s eta 0:00:06\n",
      "     ---------                              42.3/164.2 MB 24.2 MB/s eta 0:00:06\n",
      "     ---------                              42.3/164.2 MB 19.9 MB/s eta 0:00:07\n",
      "     ----------                             43.4/164.2 MB 31.2 MB/s eta 0:00:04\n",
      "     ----------                             44.4/164.2 MB 31.2 MB/s eta 0:00:04\n",
      "     ----------                             45.5/164.2 MB 28.5 MB/s eta 0:00:05\n",
      "     ----------                             46.7/164.2 MB 25.2 MB/s eta 0:00:05\n",
      "     -----------                            47.8/164.2 MB 23.4 MB/s eta 0:00:05\n",
      "     -----------                            48.9/164.2 MB 21.1 MB/s eta 0:00:06\n",
      "     -----------                            50.0/164.2 MB 19.9 MB/s eta 0:00:06\n",
      "     -----------                            51.2/164.2 MB 19.3 MB/s eta 0:00:06\n",
      "     -----------                            51.6/164.2 MB 19.8 MB/s eta 0:00:06\n",
      "     -----------                            51.6/164.2 MB 19.8 MB/s eta 0:00:06\n",
      "     -----------                            51.6/164.2 MB 19.8 MB/s eta 0:00:06\n",
      "     -----------                            51.6/164.2 MB 19.8 MB/s eta 0:00:06\n",
      "     -----------                            51.6/164.2 MB 19.8 MB/s eta 0:00:06\n",
      "     -----------                            51.6/164.2 MB 19.8 MB/s eta 0:00:06\n",
      "     -----------                            51.6/164.2 MB 19.8 MB/s eta 0:00:06\n",
      "     -----------                            51.6/164.2 MB 19.8 MB/s eta 0:00:06\n",
      "     -----------                            51.6/164.2 MB 19.8 MB/s eta 0:00:06\n",
      "     -----------                            51.6/164.2 MB 19.8 MB/s eta 0:00:06\n",
      "     -----------                            51.6/164.2 MB 19.8 MB/s eta 0:00:06\n",
      "     -----------                            51.6/164.2 MB 19.8 MB/s eta 0:00:06\n",
      "     -----------                            51.6/164.2 MB 19.8 MB/s eta 0:00:06\n",
      "     -----------                            51.6/164.2 MB 19.8 MB/s eta 0:00:06\n",
      "     -----------                            51.6/164.2 MB 19.8 MB/s eta 0:00:06\n",
      "     -----------                            51.6/164.2 MB 19.8 MB/s eta 0:00:06\n",
      "     -----------                            51.6/164.2 MB 19.8 MB/s eta 0:00:06\n",
      "     -----------                            51.6/164.2 MB 19.8 MB/s eta 0:00:06\n",
      "     -----------                            51.6/164.2 MB 19.8 MB/s eta 0:00:06\n",
      "     -----------                            51.6/164.2 MB 19.8 MB/s eta 0:00:06\n",
      "     -----------                            51.6/164.2 MB 19.8 MB/s eta 0:00:06\n",
      "     -----------                            51.6/164.2 MB 19.8 MB/s eta 0:00:06\n",
      "     -----------                            51.6/164.2 MB 19.8 MB/s eta 0:00:06\n",
      "     -----------                            51.6/164.2 MB 19.8 MB/s eta 0:00:06\n",
      "     -----------                            51.6/164.2 MB 19.8 MB/s eta 0:00:06\n",
      "     -----------                            51.6/164.2 MB 19.8 MB/s eta 0:00:06\n",
      "     -----------                            51.6/164.2 MB 19.8 MB/s eta 0:00:06\n",
      "     -----------                            51.6/164.2 MB 19.8 MB/s eta 0:00:06\n",
      "     -----------                            51.6/164.2 MB 19.8 MB/s eta 0:00:06\n",
      "     ------------                            51.7/164.2 MB 5.4 MB/s eta 0:00:21\n",
      "     ------------                            54.0/164.2 MB 5.9 MB/s eta 0:00:19\n",
      "     -------------                           58.1/164.2 MB 6.4 MB/s eta 0:00:17\n",
      "     --------------                         62.8/164.2 MB 93.0 MB/s eta 0:00:02\n",
      "     --------------                        66.2/164.2 MB 108.8 MB/s eta 0:00:01\n",
      "     --------------                        66.2/164.2 MB 108.8 MB/s eta 0:00:01\n",
      "     --------------                        66.2/164.2 MB 108.8 MB/s eta 0:00:01\n",
      "     --------------                        66.2/164.2 MB 108.8 MB/s eta 0:00:01\n",
      "     --------------                        66.2/164.2 MB 108.8 MB/s eta 0:00:01\n",
      "     --------------                        66.2/164.2 MB 108.8 MB/s eta 0:00:01\n",
      "     --------------                        66.2/164.2 MB 108.8 MB/s eta 0:00:01\n",
      "     --------------                        66.2/164.2 MB 108.8 MB/s eta 0:00:01\n",
      "     --------------                        66.2/164.2 MB 108.8 MB/s eta 0:00:01\n",
      "     --------------                        66.2/164.2 MB 108.8 MB/s eta 0:00:01\n",
      "     --------------                        66.2/164.2 MB 108.8 MB/s eta 0:00:01\n",
      "     --------------                        66.2/164.2 MB 108.8 MB/s eta 0:00:01\n",
      "     --------------                        66.2/164.2 MB 108.8 MB/s eta 0:00:01\n",
      "     --------------                        66.2/164.2 MB 108.8 MB/s eta 0:00:01\n",
      "     --------------                        66.2/164.2 MB 108.8 MB/s eta 0:00:01\n",
      "     --------------                        66.2/164.2 MB 108.8 MB/s eta 0:00:01\n",
      "     --------------                        66.2/164.2 MB 108.8 MB/s eta 0:00:01\n",
      "     --------------                        66.2/164.2 MB 108.8 MB/s eta 0:00:01\n",
      "     --------------                        66.2/164.2 MB 108.8 MB/s eta 0:00:01\n",
      "     --------------                        66.2/164.2 MB 108.8 MB/s eta 0:00:01\n",
      "     --------------                        66.2/164.2 MB 108.8 MB/s eta 0:00:01\n",
      "     --------------                        66.2/164.2 MB 108.8 MB/s eta 0:00:01\n",
      "     --------------                        66.2/164.2 MB 108.8 MB/s eta 0:00:01\n",
      "     --------------                        66.2/164.2 MB 108.8 MB/s eta 0:00:01\n",
      "     --------------                        66.2/164.2 MB 108.8 MB/s eta 0:00:01\n",
      "     --------------                        66.2/164.2 MB 108.8 MB/s eta 0:00:01\n",
      "     --------------                        66.2/164.2 MB 108.8 MB/s eta 0:00:01\n",
      "     --------------                        66.2/164.2 MB 108.8 MB/s eta 0:00:01\n",
      "     --------------                        66.2/164.2 MB 108.8 MB/s eta 0:00:01\n",
      "     --------------                        66.2/164.2 MB 108.8 MB/s eta 0:00:01\n",
      "     --------------                        66.2/164.2 MB 108.8 MB/s eta 0:00:01\n",
      "     --------------                        66.2/164.2 MB 108.8 MB/s eta 0:00:01\n",
      "     --------------                        66.2/164.2 MB 108.8 MB/s eta 0:00:01\n",
      "     --------------                        66.2/164.2 MB 108.8 MB/s eta 0:00:01\n",
      "     --------------                        66.2/164.2 MB 108.8 MB/s eta 0:00:01\n",
      "     --------------                        66.2/164.2 MB 108.8 MB/s eta 0:00:01\n",
      "     --------------                        66.2/164.2 MB 108.8 MB/s eta 0:00:01\n",
      "     --------------                        66.2/164.2 MB 108.8 MB/s eta 0:00:01\n",
      "     --------------                        66.2/164.2 MB 108.8 MB/s eta 0:00:01\n",
      "     --------------                        66.2/164.2 MB 108.8 MB/s eta 0:00:01\n",
      "     --------------                        66.2/164.2 MB 108.8 MB/s eta 0:00:01\n",
      "     --------------                        66.2/164.2 MB 108.8 MB/s eta 0:00:01\n",
      "     --------------                        66.2/164.2 MB 108.8 MB/s eta 0:00:01\n",
      "     --------------                        66.2/164.2 MB 108.8 MB/s eta 0:00:01\n",
      "     ---------------                         66.2/164.2 MB 4.8 MB/s eta 0:00:21\n",
      "     ---------------                         66.2/164.2 MB 4.8 MB/s eta 0:00:21\n",
      "     ---------------                         66.2/164.2 MB 4.8 MB/s eta 0:00:21\n",
      "     ---------------                         66.2/164.2 MB 4.8 MB/s eta 0:00:21\n",
      "     ---------------                         66.2/164.2 MB 4.8 MB/s eta 0:00:21\n",
      "     ---------------                         66.2/164.2 MB 4.8 MB/s eta 0:00:21\n",
      "     ---------------                         66.2/164.2 MB 4.8 MB/s eta 0:00:21\n",
      "     ---------------                         66.2/164.2 MB 4.8 MB/s eta 0:00:21\n",
      "     ---------------                         66.2/164.2 MB 4.8 MB/s eta 0:00:21\n",
      "     ---------------                         66.2/164.2 MB 4.8 MB/s eta 0:00:21\n",
      "     ---------------                         66.2/164.2 MB 4.8 MB/s eta 0:00:21\n",
      "     ---------------                         66.2/164.2 MB 4.8 MB/s eta 0:00:21\n",
      "     ---------------                         66.2/164.2 MB 4.8 MB/s eta 0:00:21\n",
      "     ---------------                         66.2/164.2 MB 4.8 MB/s eta 0:00:21\n",
      "     ---------------                         66.2/164.2 MB 4.8 MB/s eta 0:00:21\n",
      "     ---------------                         66.2/164.2 MB 4.8 MB/s eta 0:00:21\n",
      "     ---------------                         66.2/164.2 MB 4.8 MB/s eta 0:00:21\n",
      "     ---------------                         66.2/164.2 MB 4.8 MB/s eta 0:00:21\n",
      "     ---------------                         66.2/164.2 MB 4.8 MB/s eta 0:00:21\n",
      "     ---------------                         66.2/164.2 MB 4.8 MB/s eta 0:00:21\n",
      "     ---------------                         66.2/164.2 MB 4.8 MB/s eta 0:00:21\n",
      "     ---------------                         66.2/164.2 MB 4.8 MB/s eta 0:00:21\n",
      "     ---------------                         66.2/164.2 MB 4.8 MB/s eta 0:00:21\n",
      "     ---------------                         66.2/164.2 MB 4.8 MB/s eta 0:00:21\n",
      "     ---------------                         66.2/164.2 MB 4.8 MB/s eta 0:00:21\n",
      "     ---------------                         66.2/164.2 MB 4.8 MB/s eta 0:00:21\n",
      "     ---------------                         66.2/164.2 MB 4.8 MB/s eta 0:00:21\n",
      "     ---------------                         66.2/164.2 MB 4.8 MB/s eta 0:00:21\n",
      "     ---------------                         66.2/164.2 MB 4.8 MB/s eta 0:00:21\n",
      "     ---------------                         66.2/164.2 MB 4.8 MB/s eta 0:00:21\n",
      "     ---------------                         66.2/164.2 MB 4.8 MB/s eta 0:00:21\n",
      "     ---------------                         66.2/164.2 MB 4.8 MB/s eta 0:00:21\n",
      "     ---------------                         66.2/164.2 MB 4.8 MB/s eta 0:00:21\n",
      "     ---------------                         66.2/164.2 MB 4.8 MB/s eta 0:00:21\n",
      "     ---------------                         66.2/164.2 MB 4.8 MB/s eta 0:00:21\n",
      "     ---------------                         66.2/164.2 MB 4.8 MB/s eta 0:00:21\n",
      "     ---------------                         66.2/164.2 MB 4.8 MB/s eta 0:00:21\n",
      "     ---------------                         66.2/164.2 MB 4.8 MB/s eta 0:00:21\n",
      "     ---------------                         66.2/164.2 MB 4.8 MB/s eta 0:00:21\n",
      "     ---------------                         66.2/164.2 MB 4.8 MB/s eta 0:00:21\n",
      "     ---------------                         66.2/164.2 MB 4.8 MB/s eta 0:00:21\n",
      "     ---------------                         66.2/164.2 MB 4.8 MB/s eta 0:00:21\n",
      "     ---------------                         66.2/164.2 MB 4.8 MB/s eta 0:00:21\n",
      "     ---------------                         66.2/164.2 MB 4.8 MB/s eta 0:00:21\n",
      "     ---------------                         66.2/164.2 MB 4.8 MB/s eta 0:00:21\n",
      "     ---------------                         66.2/164.2 MB 4.8 MB/s eta 0:00:21\n",
      "     ---------------                         66.2/164.2 MB 4.8 MB/s eta 0:00:21\n",
      "     ---------------                         66.2/164.2 MB 4.8 MB/s eta 0:00:21\n",
      "     ---------------                         66.2/164.2 MB 4.8 MB/s eta 0:00:21\n",
      "     ---------------                         66.2/164.2 MB 4.8 MB/s eta 0:00:21\n",
      "     ---------------                         66.2/164.2 MB 4.8 MB/s eta 0:00:21\n",
      "     ---------------                         66.2/164.2 MB 4.8 MB/s eta 0:00:21\n",
      "     ---------------                         66.2/164.2 MB 4.8 MB/s eta 0:00:21\n",
      "     ---------------                         66.2/164.2 MB 4.8 MB/s eta 0:00:21\n",
      "     ---------------                         66.2/164.2 MB 4.8 MB/s eta 0:00:21\n",
      "     ---------------                         66.2/164.2 MB 4.8 MB/s eta 0:00:21\n",
      "     ---------------                         66.2/164.2 MB 4.8 MB/s eta 0:00:21\n",
      "     ---------------                         66.2/164.2 MB 4.8 MB/s eta 0:00:21\n",
      "     ---------------                         66.2/164.2 MB 4.8 MB/s eta 0:00:21\n",
      "     ---------------                         66.2/164.2 MB 4.8 MB/s eta 0:00:21\n",
      "     ---------------                         66.2/164.2 MB 4.8 MB/s eta 0:00:21\n",
      "     ---------------                         66.2/164.2 MB 4.8 MB/s eta 0:00:21\n",
      "     ---------------                         66.2/164.2 MB 4.8 MB/s eta 0:00:21\n",
      "     ---------------                         66.2/164.2 MB 4.8 MB/s eta 0:00:21\n",
      "     ---------------                         66.2/164.2 MB 4.8 MB/s eta 0:00:21\n",
      "     ---------------                         66.2/164.2 MB 4.8 MB/s eta 0:00:21\n",
      "     ---------------                         66.2/164.2 MB 4.8 MB/s eta 0:00:21\n",
      "     ---------------                         66.2/164.2 MB 4.8 MB/s eta 0:00:21\n",
      "     ---------------                         66.2/164.2 MB 4.8 MB/s eta 0:00:21\n",
      "     ---------------                         66.2/164.2 MB 4.8 MB/s eta 0:00:21\n",
      "     ---------------                         66.2/164.2 MB 4.8 MB/s eta 0:00:21\n",
      "     ---------------                         66.2/164.2 MB 4.8 MB/s eta 0:00:21\n",
      "     ---------------                         66.2/164.2 MB 4.8 MB/s eta 0:00:21\n",
      "     ---------------                         66.2/164.2 MB 4.8 MB/s eta 0:00:21\n",
      "     ---------------                         66.2/164.2 MB 4.8 MB/s eta 0:00:21\n",
      "     ---------------                         66.2/164.2 MB 4.8 MB/s eta 0:00:21\n",
      "     ---------------                         66.2/164.2 MB 4.8 MB/s eta 0:00:21\n",
      "     ---------------                         66.2/164.2 MB 4.8 MB/s eta 0:00:21\n",
      "     ---------------                         66.2/164.2 MB 4.8 MB/s eta 0:00:21\n",
      "     ---------------                         66.2/164.2 MB 4.8 MB/s eta 0:00:21\n",
      "     ---------------                         66.2/164.2 MB 4.8 MB/s eta 0:00:21\n",
      "     ---------------                         66.2/164.2 MB 4.8 MB/s eta 0:00:21\n",
      "     ---------------                         66.2/164.2 MB 4.8 MB/s eta 0:00:21\n",
      "     ---------------                         66.2/164.2 MB 4.8 MB/s eta 0:00:21\n",
      "     ---------------                         66.2/164.2 MB 4.8 MB/s eta 0:00:21\n",
      "     ---------------                         66.2/164.2 MB 4.8 MB/s eta 0:00:21\n",
      "     ---------------                         66.2/164.2 MB 4.8 MB/s eta 0:00:21\n",
      "     ---------------                         66.2/164.2 MB 4.8 MB/s eta 0:00:21\n",
      "     ---------------                         66.2/164.2 MB 4.8 MB/s eta 0:00:21\n",
      "     ---------------                         66.2/164.2 MB 4.8 MB/s eta 0:00:21\n",
      "     ---------------                         66.2/164.2 MB 4.8 MB/s eta 0:00:21\n",
      "     ---------------                         66.2/164.2 MB 4.8 MB/s eta 0:00:21\n",
      "     ---------------                         66.2/164.2 MB 4.8 MB/s eta 0:00:21\n",
      "     ---------------                         66.2/164.2 MB 4.8 MB/s eta 0:00:21\n",
      "     ---------------                         66.2/164.2 MB 4.8 MB/s eta 0:00:21\n",
      "     ---------------                         66.2/164.2 MB 4.8 MB/s eta 0:00:21\n",
      "     ---------------                         66.2/164.2 MB 4.8 MB/s eta 0:00:21\n",
      "     ---------------                         66.2/164.2 MB 4.8 MB/s eta 0:00:21\n",
      "     ---------------                         66.2/164.2 MB 4.8 MB/s eta 0:00:21\n",
      "     ---------------                         66.2/164.2 MB 4.8 MB/s eta 0:00:21\n",
      "     ---------------                         66.2/164.2 MB 4.8 MB/s eta 0:00:21\n",
      "     ---------------                         66.2/164.2 MB 4.8 MB/s eta 0:00:21\n",
      "     ---------------                         66.2/164.2 MB 4.8 MB/s eta 0:00:21\n",
      "     ---------------                         66.2/164.2 MB 4.8 MB/s eta 0:00:21\n",
      "     ---------------                         66.2/164.2 MB 4.8 MB/s eta 0:00:21\n",
      "     ---------------                         66.2/164.2 MB 4.8 MB/s eta 0:00:21\n",
      "     ---------------                         66.2/164.2 MB 4.8 MB/s eta 0:00:21\n",
      "     ---------------                         66.2/164.2 MB 4.8 MB/s eta 0:00:21\n",
      "     ---------------                         66.2/164.2 MB 4.8 MB/s eta 0:00:21\n",
      "     ---------------                         66.2/164.2 MB 4.8 MB/s eta 0:00:21\n",
      "     ---------------                         66.2/164.2 MB 4.8 MB/s eta 0:00:21\n",
      "     ---------------                         66.2/164.2 MB 4.8 MB/s eta 0:00:21\n",
      "     ---------------                         66.2/164.2 MB 4.8 MB/s eta 0:00:21\n",
      "     ---------------                         66.2/164.2 MB 4.8 MB/s eta 0:00:21\n",
      "     ---------------                         66.2/164.2 MB 4.8 MB/s eta 0:00:21\n",
      "     ---------------                         66.2/164.2 MB 4.8 MB/s eta 0:00:21\n",
      "     ---------------                         66.2/164.2 MB 4.8 MB/s eta 0:00:21\n",
      "     ---------------                         66.2/164.2 MB 4.8 MB/s eta 0:00:21\n",
      "     ---------------                         66.2/164.2 MB 4.8 MB/s eta 0:00:21\n",
      "     ---------------                         66.2/164.2 MB 4.8 MB/s eta 0:00:21\n",
      "     ---------------                         66.2/164.2 MB 4.8 MB/s eta 0:00:21\n",
      "     ---------------                         66.2/164.2 MB 4.8 MB/s eta 0:00:21\n",
      "     ---------------                         66.2/164.2 MB 4.8 MB/s eta 0:00:21\n",
      "     ---------------                         66.2/164.2 MB 4.8 MB/s eta 0:00:21\n",
      "     ---------------                         66.2/164.2 MB 4.8 MB/s eta 0:00:21\n",
      "     ---------------                         66.2/164.2 MB 4.8 MB/s eta 0:00:21\n",
      "     ---------------                         66.2/164.2 MB 4.8 MB/s eta 0:00:21\n",
      "     ---------------                         66.2/164.2 MB 4.8 MB/s eta 0:00:21\n",
      "     ---------------                         66.2/164.2 MB 4.8 MB/s eta 0:00:21\n",
      "     ---------------                         66.2/164.2 MB 4.8 MB/s eta 0:00:21\n",
      "     ---------------                         66.2/164.2 MB 4.8 MB/s eta 0:00:21\n",
      "     ---------------                         66.2/164.2 MB 4.8 MB/s eta 0:00:21\n",
      "     ---------------                         66.2/164.2 MB 4.8 MB/s eta 0:00:21\n",
      "     ---------------                         66.2/164.2 MB 4.8 MB/s eta 0:00:21\n",
      "     ---------------                         66.2/164.2 MB 4.8 MB/s eta 0:00:21\n",
      "     ---------------                         66.2/164.2 MB 4.8 MB/s eta 0:00:21\n",
      "     ---------------                         66.2/164.2 MB 4.8 MB/s eta 0:00:21\n",
      "     ---------------                         66.2/164.2 MB 4.8 MB/s eta 0:00:21\n",
      "     ---------------                         66.2/164.2 MB 4.8 MB/s eta 0:00:21\n",
      "     ---------------                         66.2/164.2 MB 4.8 MB/s eta 0:00:21\n",
      "     ---------------                         66.2/164.2 MB 4.8 MB/s eta 0:00:21\n",
      "     ---------------                         66.2/164.2 MB 4.8 MB/s eta 0:00:21\n",
      "     ---------------                         66.2/164.2 MB 4.8 MB/s eta 0:00:21\n",
      "     ---------------                         66.2/164.2 MB 4.8 MB/s eta 0:00:21\n",
      "     ---------------                         66.2/164.2 MB 4.8 MB/s eta 0:00:21\n",
      "     ---------------                         66.2/164.2 MB 4.8 MB/s eta 0:00:21\n",
      "     ---------------                         66.2/164.2 MB 4.8 MB/s eta 0:00:21\n",
      "     ---------------                         66.2/164.2 MB 4.8 MB/s eta 0:00:21\n",
      "     ---------------                         66.2/164.2 MB 4.8 MB/s eta 0:00:21\n",
      "     ---------------                         66.2/164.2 MB 4.8 MB/s eta 0:00:21\n",
      "     ---------------                         66.2/164.2 MB 4.8 MB/s eta 0:00:21\n",
      "     ---------------                         66.2/164.2 MB 4.8 MB/s eta 0:00:21\n",
      "     ---------------                         66.2/164.2 MB 4.8 MB/s eta 0:00:21\n",
      "     ---------------                         66.2/164.2 MB 4.8 MB/s eta 0:00:21\n",
      "     ---------------                         66.2/164.2 MB 4.8 MB/s eta 0:00:21\n",
      "     ---------------                         66.2/164.2 MB 4.8 MB/s eta 0:00:21\n",
      "     ---------------                         66.2/164.2 MB 4.8 MB/s eta 0:00:21\n",
      "     ---------------                         66.2/164.2 MB 4.8 MB/s eta 0:00:21\n",
      "     ---------------                         66.2/164.2 MB 4.8 MB/s eta 0:00:21\n",
      "     ---------------                         66.2/164.2 MB 4.8 MB/s eta 0:00:21\n",
      "     ---------------                         66.2/164.2 MB 4.8 MB/s eta 0:00:21\n",
      "     ---------------                         66.2/164.2 MB 4.8 MB/s eta 0:00:21\n",
      "     ---------------                         66.2/164.2 MB 4.8 MB/s eta 0:00:21\n",
      "     ---------------                         66.2/164.2 MB 4.8 MB/s eta 0:00:21\n",
      "     ---------------                         66.2/164.2 MB 4.8 MB/s eta 0:00:21\n",
      "     ---------------                         66.2/164.2 MB 4.8 MB/s eta 0:00:21\n",
      "     ---------------                         66.2/164.2 MB 4.8 MB/s eta 0:00:21\n",
      "     ---------------                         66.2/164.2 MB 4.8 MB/s eta 0:00:21\n",
      "     ---------------                         66.2/164.2 MB 4.8 MB/s eta 0:00:21\n",
      "     ---------------                         66.2/164.2 MB 4.8 MB/s eta 0:00:21\n",
      "     ---------------                         66.2/164.2 MB 1.0 MB/s eta 0:01:38\n",
      "     ---------------                         66.2/164.2 MB 1.0 MB/s eta 0:01:38\n",
      "     ---------------                         66.2/164.2 MB 1.0 MB/s eta 0:01:38\n",
      "     ---------------                         66.2/164.2 MB 1.0 MB/s eta 0:01:38\n",
      "     ---------------                         66.2/164.2 MB 1.0 MB/s eta 0:01:38\n",
      "     ---------------                         66.2/164.2 MB 1.0 MB/s eta 0:01:38\n",
      "     ---------------                         66.2/164.2 MB 1.0 MB/s eta 0:01:38\n",
      "     ---------------                         66.2/164.2 MB 1.0 MB/s eta 0:01:38\n",
      "     ---------------                         66.2/164.2 MB 1.0 MB/s eta 0:01:38\n",
      "     ---------------                         66.2/164.2 MB 1.0 MB/s eta 0:01:38\n",
      "     ---------------                         66.2/164.2 MB 1.0 MB/s eta 0:01:38\n",
      "     --------------                        66.2/164.2 MB 957.1 kB/s eta 0:01:43\n",
      "     --------------                        66.2/164.2 MB 957.1 kB/s eta 0:01:43\n",
      "     --------------                        66.2/164.2 MB 957.1 kB/s eta 0:01:43\n",
      "     --------------                        66.2/164.2 MB 957.1 kB/s eta 0:01:43\n",
      "     --------------                        66.2/164.2 MB 957.1 kB/s eta 0:01:43\n",
      "     --------------                        66.2/164.2 MB 957.1 kB/s eta 0:01:43\n",
      "     --------------                        66.4/164.2 MB 931.3 kB/s eta 0:01:45\n",
      "     --------------                        66.4/164.2 MB 931.3 kB/s eta 0:01:45\n",
      "     --------------                        66.4/164.2 MB 931.3 kB/s eta 0:01:45\n",
      "     --------------                        66.4/164.2 MB 931.3 kB/s eta 0:01:45\n",
      "     --------------                        66.4/164.2 MB 931.3 kB/s eta 0:01:45\n",
      "     --------------                        66.4/164.2 MB 931.3 kB/s eta 0:01:45\n",
      "     --------------                        66.5/164.2 MB 909.3 kB/s eta 0:01:48\n",
      "     --------------                        66.5/164.2 MB 909.3 kB/s eta 0:01:48\n",
      "     --------------                        66.5/164.2 MB 909.3 kB/s eta 0:01:48\n",
      "     --------------                        66.5/164.2 MB 896.9 kB/s eta 0:01:49\n",
      "     --------------                        66.5/164.2 MB 896.9 kB/s eta 0:01:49\n",
      "     --------------                        66.5/164.2 MB 896.9 kB/s eta 0:01:49\n",
      "     ---------------                       66.6/164.2 MB 888.3 kB/s eta 0:01:50\n",
      "     ---------------                       66.6/164.2 MB 882.3 kB/s eta 0:01:51\n",
      "     ---------------                       66.8/164.2 MB 880.0 kB/s eta 0:01:51\n",
      "     ---------------                       66.8/164.2 MB 874.1 kB/s eta 0:01:52\n",
      "     ---------------                       66.8/164.2 MB 874.1 kB/s eta 0:01:52\n",
      "     ---------------                       66.8/164.2 MB 868.3 kB/s eta 0:01:53\n",
      "     ---------------                       66.8/164.2 MB 868.3 kB/s eta 0:01:53\n",
      "     ---------------                       66.8/164.2 MB 861.5 kB/s eta 0:01:54\n",
      "     ---------------                       66.8/164.2 MB 861.5 kB/s eta 0:01:54\n",
      "     ---------------                       66.8/164.2 MB 854.7 kB/s eta 0:01:54\n",
      "     ---------------                       66.8/164.2 MB 851.3 kB/s eta 0:01:55\n",
      "     ---------------                       66.9/164.2 MB 848.0 kB/s eta 0:01:55\n",
      "     ---------------                       66.9/164.2 MB 848.0 kB/s eta 0:01:55\n",
      "     ---------------                       66.9/164.2 MB 842.6 kB/s eta 0:01:56\n",
      "     ---------------                       66.9/164.2 MB 842.6 kB/s eta 0:01:56\n",
      "     ---------------                       66.9/164.2 MB 837.2 kB/s eta 0:01:57\n",
      "     ---------------                       67.9/164.2 MB 831.9 kB/s eta 0:01:56\n",
      "     ----------------                      72.6/164.2 MB 833.0 kB/s eta 0:01:50\n",
      "     ----------------                      72.6/164.2 MB 829.8 kB/s eta 0:01:51\n",
      "     ----------------                      72.6/164.2 MB 829.8 kB/s eta 0:01:51\n",
      "     ----------------                      72.6/164.2 MB 824.6 kB/s eta 0:01:51\n",
      "     ----------------                      72.7/164.2 MB 820.5 kB/s eta 0:01:52\n",
      "     ----------------                      72.7/164.2 MB 820.5 kB/s eta 0:01:52\n",
      "     ----------------                      72.7/164.2 MB 816.4 kB/s eta 0:01:53\n",
      "     ----------------                      72.7/164.2 MB 811.3 kB/s eta 0:01:53\n",
      "     ----------------                      72.7/164.2 MB 808.3 kB/s eta 0:01:54\n",
      "     ----------------                      72.8/164.2 MB 807.3 kB/s eta 0:01:54\n",
      "     ----------------                      72.8/164.2 MB 804.4 kB/s eta 0:01:54\n",
      "     ----------------                      72.8/164.2 MB 800.4 kB/s eta 0:01:55\n",
      "     ----------------                      72.8/164.2 MB 796.5 kB/s eta 0:01:55\n",
      "     ----------------                      72.8/164.2 MB 793.6 kB/s eta 0:01:56\n",
      "     ----------------                      72.8/164.2 MB 793.6 kB/s eta 0:01:56\n",
      "     ----------------                      72.9/164.2 MB 789.8 kB/s eta 0:01:56\n",
      "     ----------------                      72.9/164.2 MB 786.9 kB/s eta 0:01:56\n",
      "     ----------------                      72.9/164.2 MB 784.1 kB/s eta 0:01:57\n",
      "     ----------------                      72.9/164.2 MB 779.4 kB/s eta 0:01:58\n",
      "     ----------------                      72.9/164.2 MB 779.4 kB/s eta 0:01:58\n",
      "     ----------------                      72.9/164.2 MB 776.7 kB/s eta 0:01:58\n",
      "     ----------------                      73.1/164.2 MB 772.1 kB/s eta 0:01:58\n",
      "     ----------------                      73.1/164.2 MB 770.3 kB/s eta 0:01:59\n",
      "     ----------------                      73.1/164.2 MB 768.4 kB/s eta 0:01:59\n",
      "     ----------------                      73.1/164.2 MB 765.7 kB/s eta 0:01:59\n",
      "     ----------------                      73.1/164.2 MB 763.1 kB/s eta 0:02:00\n",
      "     ----------------                      73.2/164.2 MB 759.5 kB/s eta 0:02:00\n",
      "     ----------------                      73.2/164.2 MB 756.9 kB/s eta 0:02:01\n",
      "     ----------------                      73.3/164.2 MB 754.2 kB/s eta 0:02:01\n",
      "     ----------------                      73.3/164.2 MB 752.5 kB/s eta 0:02:01\n",
      "     ----------------                      73.3/164.2 MB 749.9 kB/s eta 0:02:02\n",
      "     ----------------                      73.3/164.2 MB 748.2 kB/s eta 0:02:02\n",
      "     ----------------                      73.3/164.2 MB 744.0 kB/s eta 0:02:03\n",
      "     ----------------                      73.4/164.2 MB 741.4 kB/s eta 0:02:03\n",
      "     ----------------                      73.4/164.2 MB 739.8 kB/s eta 0:02:03\n",
      "     ----------------                      73.5/164.2 MB 737.3 kB/s eta 0:02:04\n",
      "     ----------------                      73.5/164.2 MB 733.9 kB/s eta 0:02:04\n",
      "     ----------------                      73.5/164.2 MB 732.3 kB/s eta 0:02:04\n",
      "     ----------------                      73.6/164.2 MB 728.3 kB/s eta 0:02:05\n",
      "     ----------------                      73.6/164.2 MB 727.4 kB/s eta 0:02:05\n",
      "     ----------------                      73.7/164.2 MB 724.2 kB/s eta 0:02:05\n",
      "     ----------------                      73.7/164.2 MB 722.6 kB/s eta 0:02:06\n",
      "     ----------------                      73.7/164.2 MB 719.4 kB/s eta 0:02:06\n",
      "     ----------------                      73.7/164.2 MB 717.9 kB/s eta 0:02:06\n",
      "     ----------------                      73.8/164.2 MB 714.7 kB/s eta 0:02:07\n",
      "     ----------------                      73.9/164.2 MB 712.4 kB/s eta 0:02:07\n",
      "     ----------------                      73.9/164.2 MB 711.6 kB/s eta 0:02:07\n",
      "     ----------------                      73.9/164.2 MB 708.5 kB/s eta 0:02:08\n",
      "     ----------------                      74.0/164.2 MB 705.5 kB/s eta 0:02:08\n",
      "     ----------------                      74.1/164.2 MB 704.0 kB/s eta 0:02:08\n",
      "     ----------------                      74.1/164.2 MB 701.0 kB/s eta 0:02:09\n",
      "     ----------------                      74.1/164.2 MB 698.7 kB/s eta 0:02:09\n",
      "     ----------------                      74.3/164.2 MB 697.2 kB/s eta 0:02:09\n",
      "     ----------------                      74.3/164.2 MB 695.0 kB/s eta 0:02:10\n",
      "     ----------------                      74.4/164.2 MB 692.8 kB/s eta 0:02:10\n",
      "     ----------------                      74.4/164.2 MB 690.6 kB/s eta 0:02:10\n",
      "     ----------------                      74.5/164.2 MB 688.4 kB/s eta 0:02:11\n",
      "     ----------------                      74.5/164.2 MB 686.3 kB/s eta 0:02:11\n",
      "     ----------------                      74.5/164.2 MB 683.4 kB/s eta 0:02:12\n",
      "     ----------------                      74.7/164.2 MB 682.0 kB/s eta 0:02:12\n",
      "     ----------------                      74.8/164.2 MB 679.1 kB/s eta 0:02:12\n",
      "     ----------------                      74.8/164.2 MB 677.7 kB/s eta 0:02:12\n",
      "     ----------------                      74.9/164.2 MB 675.0 kB/s eta 0:02:13\n",
      "     ----------------                      74.9/164.2 MB 673.5 kB/s eta 0:02:13\n",
      "     ----------------                      75.0/164.2 MB 671.5 kB/s eta 0:02:13\n",
      "     ----------------                      75.1/164.2 MB 669.4 kB/s eta 0:02:14\n",
      "     ----------------                      75.1/164.2 MB 666.7 kB/s eta 0:02:14\n",
      "     ----------------                      75.2/164.2 MB 666.0 kB/s eta 0:02:14\n",
      "     ----------------                      75.3/164.2 MB 664.0 kB/s eta 0:02:14\n",
      "     ----------------                      75.3/164.2 MB 662.0 kB/s eta 0:02:15\n",
      "     -----------------                     75.5/164.2 MB 659.3 kB/s eta 0:02:15\n",
      "     -----------------                     75.5/164.2 MB 658.0 kB/s eta 0:02:15\n",
      "     -----------------                     75.6/164.2 MB 655.4 kB/s eta 0:02:16\n",
      "     -----------------                     75.7/164.2 MB 654.1 kB/s eta 0:02:16\n",
      "     -----------------                     75.7/164.2 MB 652.1 kB/s eta 0:02:16\n",
      "     -----------------                     75.8/164.2 MB 650.2 kB/s eta 0:02:16\n",
      "     -----------------                     75.9/164.2 MB 648.2 kB/s eta 0:02:17\n",
      "     -----------------                     76.1/164.2 MB 645.7 kB/s eta 0:02:17\n",
      "     -----------------                     76.1/164.2 MB 644.4 kB/s eta 0:02:17\n",
      "     -----------------                     76.2/164.2 MB 642.5 kB/s eta 0:02:17\n",
      "     -----------------                     76.3/164.2 MB 640.6 kB/s eta 0:02:18\n",
      "     -----------------                     76.4/164.2 MB 638.8 kB/s eta 0:02:18\n",
      "     ------------------                      76.6/164.2 MB 2.0 MB/s eta 0:00:45\n",
      "     ------------------                      76.6/164.2 MB 2.0 MB/s eta 0:00:45\n",
      "     ------------------                      76.7/164.2 MB 2.2 MB/s eta 0:00:41\n",
      "     ------------------                      76.9/164.2 MB 2.2 MB/s eta 0:00:40\n",
      "     ------------------                      76.9/164.2 MB 2.2 MB/s eta 0:00:41\n",
      "     ------------------                      77.1/164.2 MB 2.3 MB/s eta 0:00:38\n",
      "     ------------------                      77.2/164.2 MB 2.4 MB/s eta 0:00:37\n",
      "     ------------------                      77.2/164.2 MB 2.4 MB/s eta 0:00:36\n",
      "     ------------------                      77.2/164.2 MB 2.4 MB/s eta 0:00:36\n",
      "     ------------------                      77.2/164.2 MB 2.4 MB/s eta 0:00:36\n",
      "     ------------------                      77.2/164.2 MB 2.4 MB/s eta 0:00:36\n",
      "     ------------------                      77.2/164.2 MB 2.4 MB/s eta 0:00:36\n",
      "     ------------------                      77.2/164.2 MB 2.4 MB/s eta 0:00:36\n",
      "     ------------------                      77.2/164.2 MB 2.3 MB/s eta 0:00:38\n",
      "     ------------------                      77.2/164.2 MB 2.3 MB/s eta 0:00:38\n",
      "     ------------------                      77.2/164.2 MB 2.3 MB/s eta 0:00:38\n",
      "     ------------------                      77.2/164.2 MB 2.3 MB/s eta 0:00:38\n",
      "     ------------------                      77.2/164.2 MB 2.3 MB/s eta 0:00:38\n",
      "     ------------------                      77.3/164.2 MB 2.2 MB/s eta 0:00:40\n",
      "     ------------------                      77.4/164.2 MB 2.2 MB/s eta 0:00:41\n",
      "     ------------------                      77.4/164.2 MB 2.1 MB/s eta 0:00:41\n",
      "     ------------------                      77.6/164.2 MB 2.1 MB/s eta 0:00:41\n",
      "     ------------------                      77.7/164.2 MB 2.1 MB/s eta 0:00:42\n",
      "     ------------------                      77.8/164.2 MB 2.1 MB/s eta 0:00:42\n",
      "     ------------------                      77.9/164.2 MB 2.1 MB/s eta 0:00:43\n",
      "     ------------------                      78.0/164.2 MB 2.0 MB/s eta 0:00:43\n",
      "     ------------------                      78.2/164.2 MB 2.0 MB/s eta 0:00:43\n",
      "     ------------------                      78.2/164.2 MB 2.0 MB/s eta 0:00:43\n",
      "     ------------------                      78.3/164.2 MB 2.0 MB/s eta 0:00:44\n",
      "     ------------------                      78.4/164.2 MB 2.0 MB/s eta 0:00:44\n",
      "     ------------------                      78.4/164.2 MB 1.9 MB/s eta 0:00:44\n",
      "     ------------------                      78.5/164.2 MB 1.9 MB/s eta 0:00:45\n",
      "     ------------------                      78.6/164.2 MB 1.9 MB/s eta 0:00:45\n",
      "     ------------------                      78.6/164.2 MB 1.9 MB/s eta 0:00:45\n",
      "     ------------------                      78.7/164.2 MB 1.9 MB/s eta 0:00:46\n",
      "     ------------------                      78.8/164.2 MB 1.9 MB/s eta 0:00:46\n",
      "     ------------------                      78.8/164.2 MB 1.8 MB/s eta 0:00:47\n",
      "     ------------------                      78.9/164.2 MB 1.8 MB/s eta 0:00:47\n",
      "     ------------------                      79.0/164.2 MB 1.8 MB/s eta 0:00:47\n",
      "     ------------------                      79.0/164.2 MB 1.8 MB/s eta 0:00:48\n",
      "     ------------------                      79.1/164.2 MB 1.8 MB/s eta 0:00:48\n",
      "     ------------------                      79.2/164.2 MB 1.8 MB/s eta 0:00:48\n",
      "     ------------------                      79.2/164.2 MB 1.8 MB/s eta 0:00:48\n",
      "     ------------------                      79.3/164.2 MB 1.8 MB/s eta 0:00:49\n",
      "     ------------------                      79.4/164.2 MB 1.7 MB/s eta 0:00:49\n",
      "     ------------------                      79.5/164.2 MB 1.7 MB/s eta 0:00:50\n",
      "     ------------------                      79.5/164.2 MB 1.7 MB/s eta 0:00:50\n",
      "     ------------------                      79.6/164.2 MB 1.7 MB/s eta 0:00:50\n",
      "     ------------------                      79.7/164.2 MB 1.7 MB/s eta 0:00:51\n",
      "     ------------------                      79.8/164.2 MB 1.7 MB/s eta 0:00:51\n",
      "     ------------------                      79.8/164.2 MB 1.7 MB/s eta 0:00:51\n",
      "     ------------------                      79.9/164.2 MB 1.6 MB/s eta 0:00:52\n",
      "     -------------------                     80.0/164.2 MB 1.6 MB/s eta 0:00:52\n",
      "     -------------------                     80.1/164.2 MB 1.6 MB/s eta 0:00:52\n",
      "     -------------------                     80.2/164.2 MB 1.6 MB/s eta 0:00:53\n",
      "     -------------------                     80.3/164.2 MB 1.6 MB/s eta 0:00:53\n",
      "     -------------------                     80.4/164.2 MB 1.6 MB/s eta 0:00:53\n",
      "     -------------------                     80.5/164.2 MB 1.6 MB/s eta 0:00:54\n",
      "     -------------------                     80.6/164.2 MB 1.6 MB/s eta 0:00:54\n",
      "     -------------------                     80.7/164.2 MB 1.6 MB/s eta 0:00:54\n",
      "     -------------------                     80.8/164.2 MB 1.5 MB/s eta 0:00:55\n",
      "     -------------------                     80.9/164.2 MB 1.5 MB/s eta 0:00:55\n",
      "     -------------------                     81.0/164.2 MB 1.5 MB/s eta 0:00:55\n",
      "     -------------------                     81.1/164.2 MB 1.5 MB/s eta 0:00:55\n",
      "     -------------------                     81.2/164.2 MB 1.5 MB/s eta 0:00:56\n",
      "     -------------------                     81.3/164.2 MB 1.5 MB/s eta 0:00:56\n",
      "     -------------------                     81.4/164.2 MB 1.5 MB/s eta 0:00:56\n",
      "     -------------------                     81.6/164.2 MB 1.5 MB/s eta 0:00:56\n",
      "     -------------------                     81.7/164.2 MB 1.5 MB/s eta 0:00:57\n",
      "     -------------------                     81.8/164.2 MB 1.5 MB/s eta 0:00:57\n",
      "     -------------------                     81.9/164.2 MB 1.4 MB/s eta 0:00:57\n",
      "     -------------------                     82.1/164.2 MB 1.4 MB/s eta 0:00:58\n",
      "     -------------------                     82.2/164.2 MB 1.4 MB/s eta 0:00:58\n",
      "     -------------------                     82.4/164.2 MB 1.4 MB/s eta 0:00:58\n",
      "     -------------------                     82.5/164.2 MB 1.4 MB/s eta 0:00:58\n",
      "     -------------------                     82.6/164.2 MB 1.4 MB/s eta 0:00:59\n",
      "     -------------------                     82.8/164.2 MB 1.4 MB/s eta 0:00:59\n",
      "     -------------------                     82.9/164.2 MB 1.5 MB/s eta 0:00:56\n",
      "     -------------------                     83.1/164.2 MB 1.5 MB/s eta 0:00:54\n",
      "     -------------------                     83.3/164.2 MB 1.6 MB/s eta 0:00:52\n",
      "     -------------------                     83.4/164.2 MB 1.6 MB/s eta 0:00:51\n",
      "     -------------------                     83.6/164.2 MB 1.7 MB/s eta 0:00:48\n",
      "     -------------------                     83.8/164.2 MB 1.8 MB/s eta 0:00:46\n",
      "     -------------------                     83.9/164.2 MB 1.8 MB/s eta 0:00:45\n",
      "     -------------------                     84.1/164.2 MB 1.8 MB/s eta 0:00:44\n",
      "     --------------------                    84.3/164.2 MB 1.9 MB/s eta 0:00:43\n",
      "     --------------------                    84.5/164.2 MB 1.9 MB/s eta 0:00:42\n",
      "     --------------------                    84.7/164.2 MB 2.0 MB/s eta 0:00:41\n",
      "     --------------------                    84.9/164.2 MB 2.0 MB/s eta 0:00:41\n",
      "     --------------------                    85.1/164.2 MB 2.0 MB/s eta 0:00:39\n",
      "     --------------------                    85.3/164.2 MB 2.1 MB/s eta 0:00:39\n",
      "     --------------------                    85.5/164.2 MB 2.1 MB/s eta 0:00:38\n",
      "     --------------------                    85.8/164.2 MB 2.1 MB/s eta 0:00:37\n",
      "     --------------------                    86.0/164.2 MB 2.2 MB/s eta 0:00:36\n",
      "     --------------------                    86.2/164.2 MB 2.2 MB/s eta 0:00:36\n",
      "     --------------------                    86.5/164.2 MB 2.2 MB/s eta 0:00:35\n",
      "     --------------------                    86.7/164.2 MB 2.3 MB/s eta 0:00:34\n",
      "     --------------------                    87.0/164.2 MB 2.3 MB/s eta 0:00:34\n",
      "     --------------------                    87.2/164.2 MB 2.4 MB/s eta 0:00:33\n",
      "     --------------------                    87.5/164.2 MB 2.7 MB/s eta 0:00:29\n",
      "     --------------------                    87.8/164.2 MB 2.8 MB/s eta 0:00:28\n",
      "     --------------------                    88.0/164.2 MB 2.8 MB/s eta 0:00:27\n",
      "     --------------------                    88.3/164.2 MB 2.9 MB/s eta 0:00:27\n",
      "     ---------------------                   88.6/164.2 MB 3.0 MB/s eta 0:00:26\n",
      "     ---------------------                   88.9/164.2 MB 3.1 MB/s eta 0:00:25\n",
      "     ---------------------                   89.2/164.2 MB 3.3 MB/s eta 0:00:23\n",
      "     ---------------------                   89.5/164.2 MB 3.5 MB/s eta 0:00:22\n",
      "     ---------------------                   89.8/164.2 MB 3.7 MB/s eta 0:00:21\n",
      "     ---------------------                   90.2/164.2 MB 3.9 MB/s eta 0:00:20\n",
      "     ---------------------                   90.5/164.2 MB 4.1 MB/s eta 0:00:19\n",
      "     ---------------------                   90.8/164.2 MB 4.3 MB/s eta 0:00:18\n",
      "     ---------------------                   91.2/164.2 MB 4.5 MB/s eta 0:00:17\n",
      "     ---------------------                   91.5/164.2 MB 4.7 MB/s eta 0:00:16\n",
      "     ---------------------                   91.9/164.2 MB 4.9 MB/s eta 0:00:15\n",
      "     ---------------------                   92.2/164.2 MB 5.0 MB/s eta 0:00:15\n",
      "     ---------------------                   92.2/164.2 MB 5.0 MB/s eta 0:00:15\n",
      "     ---------------------                   92.2/164.2 MB 5.0 MB/s eta 0:00:15\n",
      "     ---------------------                   92.2/164.2 MB 5.0 MB/s eta 0:00:15\n",
      "     ---------------------                   92.2/164.2 MB 5.0 MB/s eta 0:00:15\n",
      "     ---------------------                   92.2/164.2 MB 5.0 MB/s eta 0:00:15\n",
      "     ---------------------                   92.2/164.2 MB 5.0 MB/s eta 0:00:15\n",
      "     ---------------------                   92.2/164.2 MB 5.0 MB/s eta 0:00:15\n",
      "     ---------------------                   92.2/164.2 MB 5.0 MB/s eta 0:00:15\n",
      "     ---------------------                   92.2/164.2 MB 5.0 MB/s eta 0:00:15\n",
      "     ---------------------                   92.2/164.2 MB 5.0 MB/s eta 0:00:15\n",
      "     ---------------------                   92.2/164.2 MB 5.0 MB/s eta 0:00:15\n",
      "     ---------------------                   92.2/164.2 MB 5.0 MB/s eta 0:00:15\n",
      "     ---------------------                   92.2/164.2 MB 5.0 MB/s eta 0:00:15\n",
      "     ---------------------                   92.2/164.2 MB 5.0 MB/s eta 0:00:15\n",
      "     ---------------------                   92.2/164.2 MB 5.0 MB/s eta 0:00:15\n",
      "     ---------------------                   92.2/164.2 MB 5.0 MB/s eta 0:00:15\n",
      "     ---------------------                   92.2/164.2 MB 5.0 MB/s eta 0:00:15\n",
      "     ---------------------                   92.3/164.2 MB 3.6 MB/s eta 0:00:20\n",
      "     ----------------------                  92.7/164.2 MB 3.7 MB/s eta 0:00:20\n",
      "     ----------------------                  93.0/164.2 MB 3.8 MB/s eta 0:00:19\n",
      "     ----------------------                  93.4/164.2 MB 3.9 MB/s eta 0:00:19\n",
      "     ----------------------                  93.7/164.2 MB 3.9 MB/s eta 0:00:18\n",
      "     ----------------------                  94.1/164.2 MB 4.0 MB/s eta 0:00:18\n",
      "     ----------------------                  94.4/164.2 MB 4.1 MB/s eta 0:00:18\n",
      "     ----------------------                  94.8/164.2 MB 4.1 MB/s eta 0:00:17\n",
      "     ----------------------                  95.0/164.2 MB 4.1 MB/s eta 0:00:17\n",
      "     ----------------------                  95.2/164.2 MB 4.2 MB/s eta 0:00:17\n",
      "     ----------------------                  95.5/164.2 MB 4.2 MB/s eta 0:00:17\n",
      "     ----------------------                  95.7/164.2 MB 4.2 MB/s eta 0:00:17\n",
      "     ----------------------                  96.0/164.2 MB 4.2 MB/s eta 0:00:17\n",
      "     ----------------------                  96.4/164.2 MB 4.3 MB/s eta 0:00:16\n",
      "     ----------------------                  96.7/164.2 MB 4.3 MB/s eta 0:00:16\n",
      "     -----------------------                 97.1/164.2 MB 4.3 MB/s eta 0:00:16\n",
      "     -----------------------                 97.4/164.2 MB 4.3 MB/s eta 0:00:16\n",
      "     -----------------------                 97.8/164.2 MB 4.4 MB/s eta 0:00:16\n",
      "     -----------------------                 98.1/164.2 MB 4.4 MB/s eta 0:00:16\n",
      "     -----------------------                 98.5/164.2 MB 4.4 MB/s eta 0:00:15\n",
      "     -----------------------                 98.8/164.2 MB 4.4 MB/s eta 0:00:15\n",
      "     -----------------------                 99.1/164.2 MB 4.5 MB/s eta 0:00:15\n",
      "     -----------------------                 99.5/164.2 MB 4.5 MB/s eta 0:00:15\n",
      "     -----------------------                 99.8/164.2 MB 4.5 MB/s eta 0:00:15\n",
      "     -----------------------                100.2/164.2 MB 4.5 MB/s eta 0:00:15\n",
      "     -----------------------                100.5/164.2 MB 4.5 MB/s eta 0:00:15\n",
      "     -----------------------                100.9/164.2 MB 4.5 MB/s eta 0:00:15\n",
      "     -----------------------                100.9/164.2 MB 4.5 MB/s eta 0:00:15\n",
      "     -----------------------                100.9/164.2 MB 4.3 MB/s eta 0:00:15\n",
      "     -----------------------                100.9/164.2 MB 4.3 MB/s eta 0:00:15\n",
      "     -----------------------                100.9/164.2 MB 4.3 MB/s eta 0:00:15\n",
      "     -----------------------                100.9/164.2 MB 4.3 MB/s eta 0:00:15\n",
      "     -----------------------                100.9/164.2 MB 4.3 MB/s eta 0:00:15\n",
      "     -----------------------                100.9/164.2 MB 4.3 MB/s eta 0:00:15\n",
      "     -----------------------                100.9/164.2 MB 4.3 MB/s eta 0:00:15\n",
      "     -----------------------                100.9/164.2 MB 4.3 MB/s eta 0:00:15\n",
      "     -----------------------                100.9/164.2 MB 4.3 MB/s eta 0:00:15\n",
      "     -----------------------                100.9/164.2 MB 4.3 MB/s eta 0:00:15\n",
      "     -----------------------                100.9/164.2 MB 4.3 MB/s eta 0:00:15\n",
      "     -----------------------                100.9/164.2 MB 4.3 MB/s eta 0:00:15\n",
      "     -----------------------                101.3/164.2 MB 3.6 MB/s eta 0:00:18\n",
      "     -----------------------                101.9/164.2 MB 3.6 MB/s eta 0:00:18\n",
      "     -----------------------                101.9/164.2 MB 3.6 MB/s eta 0:00:18\n",
      "     -----------------------                101.9/164.2 MB 3.5 MB/s eta 0:00:18\n",
      "     -----------------------                101.9/164.2 MB 3.5 MB/s eta 0:00:18\n",
      "     -----------------------                101.9/164.2 MB 3.5 MB/s eta 0:00:18\n",
      "     -----------------------                101.9/164.2 MB 3.5 MB/s eta 0:00:18\n",
      "     -----------------------                101.9/164.2 MB 3.5 MB/s eta 0:00:18\n",
      "     -----------------------                101.9/164.2 MB 3.5 MB/s eta 0:00:18\n",
      "     -----------------------                101.9/164.2 MB 3.5 MB/s eta 0:00:18\n",
      "     -----------------------                101.9/164.2 MB 3.5 MB/s eta 0:00:18\n",
      "     -----------------------                101.9/164.2 MB 3.5 MB/s eta 0:00:18\n",
      "     -----------------------                101.9/164.2 MB 3.5 MB/s eta 0:00:18\n",
      "     -----------------------                101.9/164.2 MB 3.5 MB/s eta 0:00:18\n",
      "     -----------------------                101.9/164.2 MB 3.5 MB/s eta 0:00:18\n",
      "     -----------------------                101.9/164.2 MB 2.9 MB/s eta 0:00:22\n",
      "     -----------------------                101.9/164.2 MB 2.9 MB/s eta 0:00:22\n",
      "     -----------------------                101.9/164.2 MB 2.9 MB/s eta 0:00:22\n",
      "     -----------------------                101.9/164.2 MB 2.9 MB/s eta 0:00:22\n",
      "     -----------------------                101.9/164.2 MB 2.9 MB/s eta 0:00:22\n",
      "     -----------------------                101.9/164.2 MB 2.9 MB/s eta 0:00:22\n",
      "     -----------------------                101.9/164.2 MB 2.9 MB/s eta 0:00:22\n",
      "     -----------------------                101.9/164.2 MB 2.9 MB/s eta 0:00:22\n",
      "     -----------------------                101.9/164.2 MB 2.9 MB/s eta 0:00:22\n",
      "     -----------------------                101.9/164.2 MB 2.9 MB/s eta 0:00:22\n",
      "     -----------------------                101.9/164.2 MB 2.9 MB/s eta 0:00:22\n",
      "     -----------------------                102.0/164.2 MB 2.6 MB/s eta 0:00:25\n",
      "     ------------------------               106.2/164.2 MB 4.0 MB/s eta 0:00:15\n",
      "     -------------------------              111.0/164.2 MB 5.2 MB/s eta 0:00:11\n",
      "     -------------------------              111.4/164.2 MB 7.4 MB/s eta 0:00:08\n",
      "     -------------------------              111.7/164.2 MB 7.4 MB/s eta 0:00:08\n",
      "     -------------------------              112.1/164.2 MB 7.2 MB/s eta 0:00:08\n",
      "     -------------------------             112.4/164.2 MB 40.9 MB/s eta 0:00:02\n",
      "     -------------------------             112.8/164.2 MB 34.4 MB/s eta 0:00:02\n",
      "     -------------------------             113.1/164.2 MB 29.7 MB/s eta 0:00:02\n",
      "     -------------------------             113.4/164.2 MB 26.2 MB/s eta 0:00:02\n",
      "     -------------------------             113.8/164.2 MB 23.4 MB/s eta 0:00:03\n",
      "     -------------------------             114.1/164.2 MB 21.8 MB/s eta 0:00:03\n",
      "     -------------------------             114.5/164.2 MB 19.8 MB/s eta 0:00:03\n",
      "     -------------------------             114.8/164.2 MB 18.2 MB/s eta 0:00:03\n",
      "     -------------------------             115.2/164.2 MB 16.8 MB/s eta 0:00:03\n",
      "     --------------------------            115.5/164.2 MB 15.6 MB/s eta 0:00:04\n",
      "     --------------------------            115.9/164.2 MB 14.6 MB/s eta 0:00:04\n",
      "     --------------------------            116.2/164.2 MB 13.6 MB/s eta 0:00:04\n",
      "     --------------------------            116.5/164.2 MB 13.1 MB/s eta 0:00:04\n",
      "     --------------------------            116.9/164.2 MB 12.4 MB/s eta 0:00:04\n",
      "     --------------------------            117.2/164.2 MB 11.7 MB/s eta 0:00:05\n",
      "     --------------------------            117.6/164.2 MB 11.1 MB/s eta 0:00:05\n",
      "     --------------------------            117.9/164.2 MB 10.6 MB/s eta 0:00:05\n",
      "     --------------------------            118.2/164.2 MB 10.1 MB/s eta 0:00:05\n",
      "     ---------------------------            118.6/164.2 MB 9.8 MB/s eta 0:00:05\n",
      "     ---------------------------            118.9/164.2 MB 9.4 MB/s eta 0:00:05\n",
      "     ---------------------------            119.2/164.2 MB 9.0 MB/s eta 0:00:06\n",
      "     ---------------------------            119.6/164.2 MB 8.6 MB/s eta 0:00:06\n",
      "     ---------------------------            120.0/164.2 MB 8.3 MB/s eta 0:00:06\n",
      "     ---------------------------            120.5/164.2 MB 8.0 MB/s eta 0:00:06\n",
      "     ---------------------------            120.9/164.2 MB 7.8 MB/s eta 0:00:06\n",
      "     ----------------------------           121.3/164.2 MB 7.6 MB/s eta 0:00:06\n",
      "     ----------------------------           121.7/164.2 MB 7.7 MB/s eta 0:00:06\n",
      "     ----------------------------           122.2/164.2 MB 7.8 MB/s eta 0:00:06\n",
      "     ----------------------------           122.6/164.2 MB 7.8 MB/s eta 0:00:06\n",
      "     ----------------------------           123.1/164.2 MB 8.0 MB/s eta 0:00:06\n",
      "     ----------------------------           123.6/164.2 MB 8.1 MB/s eta 0:00:06\n",
      "     ----------------------------           124.0/164.2 MB 8.2 MB/s eta 0:00:05\n",
      "     ----------------------------           124.6/164.2 MB 8.3 MB/s eta 0:00:05\n",
      "     ----------------------------           125.1/164.2 MB 8.5 MB/s eta 0:00:05\n",
      "     -----------------------------          125.6/164.2 MB 8.7 MB/s eta 0:00:05\n",
      "     -----------------------------          126.1/164.2 MB 9.0 MB/s eta 0:00:05\n",
      "     -----------------------------          126.7/164.2 MB 9.1 MB/s eta 0:00:05\n",
      "     -----------------------------          127.2/164.2 MB 9.4 MB/s eta 0:00:04\n",
      "     -----------------------------          127.8/164.2 MB 9.6 MB/s eta 0:00:04\n",
      "     -----------------------------          128.3/164.2 MB 9.9 MB/s eta 0:00:04\n",
      "     -----------------------------         129.0/164.2 MB 10.4 MB/s eta 0:00:04\n",
      "     -----------------------------         129.6/164.2 MB 10.7 MB/s eta 0:00:04\n",
      "     -----------------------------         130.2/164.2 MB 11.1 MB/s eta 0:00:04\n",
      "     -----------------------------         130.9/164.2 MB 11.3 MB/s eta 0:00:03\n",
      "     -----------------------------         131.5/164.2 MB 11.7 MB/s eta 0:00:03\n",
      "     -----------------------------         132.3/164.2 MB 12.1 MB/s eta 0:00:03\n",
      "     -----------------------------         132.7/164.2 MB 12.1 MB/s eta 0:00:03\n",
      "     ------------------------------        133.2/164.2 MB 12.1 MB/s eta 0:00:03\n",
      "     ------------------------------        133.5/164.2 MB 11.9 MB/s eta 0:00:03\n",
      "     ------------------------------        134.1/164.2 MB 11.9 MB/s eta 0:00:03\n",
      "     ------------------------------        134.6/164.2 MB 12.1 MB/s eta 0:00:03\n",
      "     ------------------------------        135.2/164.2 MB 12.1 MB/s eta 0:00:03\n",
      "     ------------------------------        135.9/164.2 MB 12.4 MB/s eta 0:00:03\n",
      "     ------------------------------        136.5/164.2 MB 12.4 MB/s eta 0:00:03\n",
      "     ------------------------------        137.1/164.2 MB 12.6 MB/s eta 0:00:03\n",
      "     -------------------------------       137.7/164.2 MB 12.6 MB/s eta 0:00:03\n",
      "     -------------------------------       138.3/164.2 MB 12.6 MB/s eta 0:00:03\n",
      "     -------------------------------       138.9/164.2 MB 12.6 MB/s eta 0:00:03\n",
      "     -------------------------------       139.6/164.2 MB 12.9 MB/s eta 0:00:02\n",
      "     -------------------------------       140.3/164.2 MB 12.6 MB/s eta 0:00:02\n",
      "     -------------------------------       140.9/164.2 MB 12.6 MB/s eta 0:00:02\n",
      "     -------------------------------       141.5/164.2 MB 12.6 MB/s eta 0:00:02\n",
      "     --------------------------------      142.1/164.2 MB 12.6 MB/s eta 0:00:02\n",
      "     --------------------------------      142.8/164.2 MB 12.6 MB/s eta 0:00:02\n",
      "     --------------------------------      143.4/164.2 MB 13.1 MB/s eta 0:00:02\n",
      "     --------------------------------      144.1/164.2 MB 13.4 MB/s eta 0:00:02\n",
      "     --------------------------------      144.7/164.2 MB 13.4 MB/s eta 0:00:02\n",
      "     --------------------------------      145.3/164.2 MB 13.4 MB/s eta 0:00:02\n",
      "     --------------------------------      146.0/164.2 MB 13.6 MB/s eta 0:00:02\n",
      "     ---------------------------------     146.8/164.2 MB 13.6 MB/s eta 0:00:02\n",
      "     ---------------------------------     147.4/164.2 MB 13.6 MB/s eta 0:00:02\n",
      "     ---------------------------------     148.1/164.2 MB 13.9 MB/s eta 0:00:02\n",
      "     ---------------------------------     148.7/164.2 MB 13.6 MB/s eta 0:00:02\n",
      "     ---------------------------------     149.4/164.2 MB 13.9 MB/s eta 0:00:02\n",
      "     ---------------------------------     150.0/164.2 MB 13.9 MB/s eta 0:00:02\n",
      "     ---------------------------------     150.6/164.2 MB 13.9 MB/s eta 0:00:01\n",
      "     ----------------------------------    151.3/164.2 MB 13.6 MB/s eta 0:00:01\n",
      "     ----------------------------------    151.9/164.2 MB 13.6 MB/s eta 0:00:01\n",
      "     ----------------------------------    152.5/164.2 MB 13.6 MB/s eta 0:00:01\n",
      "     ----------------------------------    153.2/164.2 MB 13.6 MB/s eta 0:00:01\n",
      "     ----------------------------------    153.8/164.2 MB 13.6 MB/s eta 0:00:01\n",
      "     ----------------------------------    154.4/164.2 MB 13.6 MB/s eta 0:00:01\n",
      "     ----------------------------------    155.1/164.2 MB 13.6 MB/s eta 0:00:01\n",
      "     -----------------------------------   155.7/164.2 MB 13.6 MB/s eta 0:00:01\n",
      "     -----------------------------------   156.5/164.2 MB 13.9 MB/s eta 0:00:01\n",
      "     -----------------------------------   157.3/164.2 MB 14.2 MB/s eta 0:00:01\n",
      "     -----------------------------------   158.1/164.2 MB 14.6 MB/s eta 0:00:01\n",
      "     -----------------------------------   158.9/164.2 MB 14.6 MB/s eta 0:00:01\n",
      "     -----------------------------------   159.7/164.2 MB 14.9 MB/s eta 0:00:01\n",
      "     ------------------------------------  160.4/164.2 MB 14.9 MB/s eta 0:00:01\n",
      "     ------------------------------------  160.9/164.2 MB 14.6 MB/s eta 0:00:01\n",
      "     ------------------------------------  161.4/164.2 MB 14.6 MB/s eta 0:00:01\n",
      "     ------------------------------------  161.8/164.2 MB 14.2 MB/s eta 0:00:01\n",
      "     ------------------------------------  162.3/164.2 MB 13.9 MB/s eta 0:00:01\n",
      "     ------------------------------------  162.7/164.2 MB 13.6 MB/s eta 0:00:01\n",
      "     ------------------------------------  163.2/164.2 MB 13.4 MB/s eta 0:00:01\n",
      "     ------------------------------------  163.7/164.2 MB 13.6 MB/s eta 0:00:01\n",
      "     ------------------------------------  163.7/164.2 MB 13.6 MB/s eta 0:00:01\n",
      "     ------------------------------------  163.7/164.2 MB 13.6 MB/s eta 0:00:01\n",
      "     ------------------------------------  163.7/164.2 MB 13.6 MB/s eta 0:00:01\n",
      "     ------------------------------------  163.7/164.2 MB 13.6 MB/s eta 0:00:01\n",
      "     ------------------------------------  163.7/164.2 MB 13.6 MB/s eta 0:00:01\n",
      "     -------------------------------------  163.7/164.2 MB 9.9 MB/s eta 0:00:01\n",
      "     -------------------------------------  163.7/164.2 MB 9.9 MB/s eta 0:00:01\n",
      "     -------------------------------------  163.7/164.2 MB 9.9 MB/s eta 0:00:01\n",
      "     -------------------------------------  163.7/164.2 MB 9.9 MB/s eta 0:00:01\n",
      "     -------------------------------------  163.7/164.2 MB 9.9 MB/s eta 0:00:01\n",
      "     -------------------------------------  163.7/164.2 MB 9.9 MB/s eta 0:00:01\n",
      "     -------------------------------------  164.1/164.2 MB 7.8 MB/s eta 0:00:01\n",
      "     -------------------------------------  164.1/164.2 MB 7.8 MB/s eta 0:00:01\n",
      "     -------------------------------------  164.1/164.2 MB 7.8 MB/s eta 0:00:01\n",
      "     -------------------------------------  164.1/164.2 MB 7.8 MB/s eta 0:00:01\n",
      "     -------------------------------------  164.1/164.2 MB 7.8 MB/s eta 0:00:01\n",
      "     -------------------------------------  164.1/164.2 MB 7.8 MB/s eta 0:00:01\n",
      "     -------------------------------------  164.1/164.2 MB 7.8 MB/s eta 0:00:01\n",
      "     -------------------------------------- 164.2/164.2 MB 5.8 MB/s eta 0:00:00\n",
      "Collecting torchvision==0.14.1+cpu\n",
      "  Downloading https://download.pytorch.org/whl/cpu/torchvision-0.14.1%2Bcpu-cp310-cp310-win_amd64.whl (1.1 MB)\n",
      "                                              0.0/1.1 MB ? eta -:--:--\n",
      "                                              0.0/1.1 MB ? eta -:--:--\n",
      "     -                                        0.1/1.1 MB 871.5 kB/s eta 0:00:02\n",
      "     ----                                     0.1/1.1 MB 798.9 kB/s eta 0:00:02\n",
      "     ----                                     0.1/1.1 MB 871.5 kB/s eta 0:00:02\n",
      "     --------                                 0.2/1.1 MB 962.7 kB/s eta 0:00:01\n",
      "     ------------                             0.3/1.1 MB 1.2 MB/s eta 0:00:01\n",
      "     -----------------------                  0.6/1.1 MB 2.1 MB/s eta 0:00:01\n",
      "     ----------------------------------       0.9/1.1 MB 2.5 MB/s eta 0:00:01\n",
      "     ---------------------------------------- 1.1/1.1 MB 2.8 MB/s eta 0:00:00\n",
      "Requirement already satisfied: torchaudio==0.13.1 in c:\\users\\administrator\\appdata\\local\\programs\\python\\python310\\lib\\site-packages (0.13.1+cu116)\n",
      "Requirement already satisfied: typing-extensions in c:\\users\\administrator\\appdata\\local\\programs\\python\\python310\\lib\\site-packages (from torch==1.13.1+cpu) (4.5.0)\n",
      "Requirement already satisfied: numpy in c:\\users\\administrator\\appdata\\local\\programs\\python\\python310\\lib\\site-packages (from torchvision==0.14.1+cpu) (1.24.2)\n",
      "Requirement already satisfied: requests in c:\\users\\administrator\\appdata\\local\\programs\\python\\python310\\lib\\site-packages (from torchvision==0.14.1+cpu) (2.28.2)\n",
      "Requirement already satisfied: pillow!=8.3.*,>=5.3.0 in c:\\users\\administrator\\appdata\\local\\programs\\python\\python310\\lib\\site-packages (from torchvision==0.14.1+cpu) (9.4.0)\n",
      "Requirement already satisfied: charset-normalizer<4,>=2 in c:\\users\\administrator\\appdata\\local\\programs\\python\\python310\\lib\\site-packages (from requests->torchvision==0.14.1+cpu) (3.0.1)\n",
      "Requirement already satisfied: idna<4,>=2.5 in c:\\users\\administrator\\appdata\\local\\programs\\python\\python310\\lib\\site-packages (from requests->torchvision==0.14.1+cpu) (3.4)\n",
      "Requirement already satisfied: urllib3<1.27,>=1.21.1 in c:\\users\\administrator\\appdata\\local\\programs\\python\\python310\\lib\\site-packages (from requests->torchvision==0.14.1+cpu) (1.26.14)\n",
      "Requirement already satisfied: certifi>=2017.4.17 in c:\\users\\administrator\\appdata\\local\\programs\\python\\python310\\lib\\site-packages (from requests->torchvision==0.14.1+cpu) (2022.12.7)\n",
      "Installing collected packages: torch, torchvision\n",
      "  Attempting uninstall: torch\n",
      "    Found existing installation: torch 1.13.1+cu116\n",
      "    Uninstalling torch-1.13.1+cu116:\n",
      "      Successfully uninstalled torch-1.13.1+cu116\n",
      "  Attempting uninstall: torchvision\n",
      "    Found existing installation: torchvision 0.14.1+cu116\n",
      "    Uninstalling torchvision-0.14.1+cu116:\n",
      "      Successfully uninstalled torchvision-0.14.1+cu116\n",
      "Successfully installed torch-1.13.1+cpu torchvision-0.14.1+cpu\n"
     ]
    },
    {
     "name": "stderr",
     "output_type": "stream",
     "text": [
      "\n",
      "[notice] A new release of pip is available: 23.1.2 -> 23.2.1\n",
      "[notice] To update, run: python.exe -m pip install --upgrade pip\n"
     ]
    }
   ],
   "source": [
    "# you might see a warning after running the command below, this can be ignored\n",
    "!pip install torch==1.13.1+cpu torchvision==0.14.1+cpu torchaudio==0.13.1 --extra-index-url https://download.pytorch.org/whl/cpu"
   ]
  },
  {
   "attachments": {},
   "cell_type": "markdown",
   "metadata": {
    "id": "4UTuRurVeLDF"
   },
   "source": [
    "We are going to install some other dependencies you are likely familiar with. We'll use these to make plots."
   ]
  },
  {
   "cell_type": "code",
   "execution_count": 3,
   "metadata": {
    "colab": {
     "base_uri": "https://localhost:8080/"
    },
    "id": "ybSlTUVXeT3u",
    "outputId": "58b7af77-609f-4118-bd5b-5629a4b5a296"
   },
   "outputs": [
    {
     "name": "stdout",
     "output_type": "stream",
     "text": [
      "Requirement already satisfied: matplotlib in c:\\users\\administrator\\appdata\\local\\programs\\python\\python310\\lib\\site-packages (3.7.1)\n",
      "Requirement already satisfied: contourpy>=1.0.1 in c:\\users\\administrator\\appdata\\local\\programs\\python\\python310\\lib\\site-packages (from matplotlib) (1.0.7)\n",
      "Requirement already satisfied: cycler>=0.10 in c:\\users\\administrator\\appdata\\local\\programs\\python\\python310\\lib\\site-packages (from matplotlib) (0.11.0)\n",
      "Requirement already satisfied: fonttools>=4.22.0 in c:\\users\\administrator\\appdata\\local\\programs\\python\\python310\\lib\\site-packages (from matplotlib) (4.39.0)\n",
      "Requirement already satisfied: kiwisolver>=1.0.1 in c:\\users\\administrator\\appdata\\local\\programs\\python\\python310\\lib\\site-packages (from matplotlib) (1.4.4)\n",
      "Requirement already satisfied: numpy>=1.20 in c:\\users\\administrator\\appdata\\local\\programs\\python\\python310\\lib\\site-packages (from matplotlib) (1.24.2)\n",
      "Requirement already satisfied: packaging>=20.0 in c:\\users\\administrator\\appdata\\local\\programs\\python\\python310\\lib\\site-packages (from matplotlib) (23.0)\n",
      "Requirement already satisfied: pillow>=6.2.0 in c:\\users\\administrator\\appdata\\local\\programs\\python\\python310\\lib\\site-packages (from matplotlib) (9.4.0)\n",
      "Requirement already satisfied: pyparsing>=2.3.1 in c:\\users\\administrator\\appdata\\local\\programs\\python\\python310\\lib\\site-packages (from matplotlib) (3.0.9)\n",
      "Requirement already satisfied: python-dateutil>=2.7 in c:\\users\\administrator\\appdata\\local\\programs\\python\\python310\\lib\\site-packages (from matplotlib) (2.8.2)\n",
      "Requirement already satisfied: six>=1.5 in c:\\users\\administrator\\appdata\\local\\programs\\python\\python310\\lib\\site-packages (from python-dateutil>=2.7->matplotlib) (1.16.0)\n"
     ]
    },
    {
     "name": "stderr",
     "output_type": "stream",
     "text": [
      "\n",
      "[notice] A new release of pip is available: 23.1.2 -> 23.2.1\n",
      "[notice] To update, run: python.exe -m pip install --upgrade pip\n"
     ]
    }
   ],
   "source": [
    "!pip install matplotlib"
   ]
  },
  {
   "attachments": {},
   "cell_type": "markdown",
   "metadata": {
    "id": "mpmcL_STdjIo"
   },
   "source": [
    "# Centralised training: the old way of doing ML"
   ]
  },
  {
   "attachments": {},
   "cell_type": "markdown",
   "metadata": {
    "id": "gvw2TZjSec6C"
   },
   "source": [
    "Let's begin by creating a simple (but complete) training loop as it is commonly done in centralised setups. Starting our tutorial in this way will allow us to very clearly identify which parts of a typical ML pipeline are common to both centralised and federated training and which ones are poles a part.\n",
    "\n",
    "For this tutorial we'll design a image classification pipeline for [MNIST digits](https://en.wikipedia.org/wiki/MNIST_database) and using a simple CNN model as the network to train. The MNIST dataset is comprised of `28x28` greyscale images with digits from 0 to 9 (i.e. 10 classes in total)\n",
    "\n",
    "\n",
    "## A dataset\n",
    "\n",
    "Let's begin by constructing the dataset."
   ]
  },
  {
   "cell_type": "code",
   "execution_count": 24,
   "metadata": {
    "id": "p9aFBjd1cpHs"
   },
   "outputs": [],
   "source": [
    "# we naturally first need to import torch and torchvision\n",
    "import torch\n",
    "from torch.utils.data import DataLoader\n",
    "from torchvision.transforms import ToTensor, Normalize, Compose\n",
    "from torchvision.datasets import MNIST\n",
    "\n",
    "\n",
    "def get_mnist(data_path: str = './data'):\n",
    "    '''This function downloads the MNIST dataset into the `data_path`\n",
    "    directory if it is not there already. WE construct the train/test\n",
    "    split by converting the images into tensors and normalising them'''\n",
    "\n",
    "    # transformation to conver images to tensors and apply normailsation\n",
    "    tr = Compose([ToTensor(), Normalize((0.1307,), (0.3081,))])\n",
    "\n",
    "    # prepare train and test set\n",
    "    trainset = MNIST(data_path, train=True, download=True, transform=tr)\n",
    "    testset = MNIST(data_path, train=False, download=True, transform=tr)\n",
    "\n",
    "    return trainset, testset"
   ]
  },
  {
   "attachments": {},
   "cell_type": "markdown",
   "metadata": {
    "id": "vKoQfqgYgwg0"
   },
   "source": [
    "Let's run the code above and do some visualisations to understand better the data we are working with !"
   ]
  },
  {
   "cell_type": "code",
   "execution_count": 25,
   "metadata": {
    "id": "pS8sL2hDgvZN"
   },
   "outputs": [
    {
     "name": "stdout",
     "output_type": "stream",
     "text": [
      "Downloading http://yann.lecun.com/exdb/mnist/train-images-idx3-ubyte.gz\n",
      "Downloading http://yann.lecun.com/exdb/mnist/train-images-idx3-ubyte.gz to ./data\\MNIST\\raw\\train-images-idx3-ubyte.gz\n"
     ]
    },
    {
     "data": {
      "application/vnd.jupyter.widget-view+json": {
       "model_id": "1ade22dc1da948eb947e1b6dcfc774bd",
       "version_major": 2,
       "version_minor": 0
      },
      "text/plain": [
       "  0%|          | 0/9912422 [00:00<?, ?it/s]"
      ]
     },
     "metadata": {},
     "output_type": "display_data"
    },
    {
     "name": "stdout",
     "output_type": "stream",
     "text": [
      "Extracting ./data\\MNIST\\raw\\train-images-idx3-ubyte.gz to ./data\\MNIST\\raw\n",
      "\n",
      "Downloading http://yann.lecun.com/exdb/mnist/train-labels-idx1-ubyte.gz\n",
      "Downloading http://yann.lecun.com/exdb/mnist/train-labels-idx1-ubyte.gz to ./data\\MNIST\\raw\\train-labels-idx1-ubyte.gz\n"
     ]
    },
    {
     "data": {
      "application/vnd.jupyter.widget-view+json": {
       "model_id": "9550d78884834734b9f788164fdad964",
       "version_major": 2,
       "version_minor": 0
      },
      "text/plain": [
       "  0%|          | 0/28881 [00:00<?, ?it/s]"
      ]
     },
     "metadata": {},
     "output_type": "display_data"
    },
    {
     "name": "stdout",
     "output_type": "stream",
     "text": [
      "Extracting ./data\\MNIST\\raw\\train-labels-idx1-ubyte.gz to ./data\\MNIST\\raw\n",
      "\n",
      "Downloading http://yann.lecun.com/exdb/mnist/t10k-images-idx3-ubyte.gz\n",
      "Downloading http://yann.lecun.com/exdb/mnist/t10k-images-idx3-ubyte.gz to ./data\\MNIST\\raw\\t10k-images-idx3-ubyte.gz\n"
     ]
    },
    {
     "data": {
      "application/vnd.jupyter.widget-view+json": {
       "model_id": "1ce2a7a192dd493f840844d231f8314b",
       "version_major": 2,
       "version_minor": 0
      },
      "text/plain": [
       "  0%|          | 0/1648877 [00:00<?, ?it/s]"
      ]
     },
     "metadata": {},
     "output_type": "display_data"
    },
    {
     "name": "stdout",
     "output_type": "stream",
     "text": [
      "Extracting ./data\\MNIST\\raw\\t10k-images-idx3-ubyte.gz to ./data\\MNIST\\raw\n",
      "\n",
      "Downloading http://yann.lecun.com/exdb/mnist/t10k-labels-idx1-ubyte.gz\n",
      "Downloading http://yann.lecun.com/exdb/mnist/t10k-labels-idx1-ubyte.gz to ./data\\MNIST\\raw\\t10k-labels-idx1-ubyte.gz\n"
     ]
    },
    {
     "data": {
      "application/vnd.jupyter.widget-view+json": {
       "model_id": "c1b2a5f303ab4a5a865b36d2d7673e01",
       "version_major": 2,
       "version_minor": 0
      },
      "text/plain": [
       "  0%|          | 0/4542 [00:00<?, ?it/s]"
      ]
     },
     "metadata": {},
     "output_type": "display_data"
    },
    {
     "name": "stdout",
     "output_type": "stream",
     "text": [
      "Extracting ./data\\MNIST\\raw\\t10k-labels-idx1-ubyte.gz to ./data\\MNIST\\raw\n",
      "\n"
     ]
    }
   ],
   "source": [
    "trainset, testset = get_mnist()"
   ]
  },
  {
   "attachments": {},
   "cell_type": "markdown",
   "metadata": {
    "id": "iNA-6AcYhYVM"
   },
   "source": [
    "We can have a quick overview of our datasets by just typing the object on the command line. For instance, below you can see that the `trainset` has 60k training examples and will use the transformation rule we defined above in `get_mnist()`."
   ]
  },
  {
   "cell_type": "code",
   "execution_count": 6,
   "metadata": {
    "colab": {
     "base_uri": "https://localhost:8080/"
    },
    "id": "pWsIHsq-g4nX",
    "outputId": "f10b649f-3cee-4e86-c7ff-94bd1fd3e082"
   },
   "outputs": [
    {
     "data": {
      "text/plain": [
       "Dataset MNIST\n",
       "    Number of datapoints: 60000\n",
       "    Root location: ./data\n",
       "    Split: Train\n",
       "    StandardTransform\n",
       "Transform: Compose(\n",
       "               ToTensor()\n",
       "               Normalize(mean=(0.1307,), std=(0.3081,))\n",
       "           )"
      ]
     },
     "execution_count": 6,
     "metadata": {},
     "output_type": "execute_result"
    }
   ],
   "source": [
    "trainset"
   ]
  },
  {
   "attachments": {},
   "cell_type": "markdown",
   "metadata": {
    "id": "NY9bWlaMhweq"
   },
   "source": [
    "Let's create a more insightful visualisation. First let's see the distribution over the labels by constructing a histogram. Then, let's visualise some training examples !"
   ]
  },
  {
   "cell_type": "code",
   "execution_count": 7,
   "metadata": {
    "colab": {
     "base_uri": "https://localhost:8080/",
     "height": 490
    },
    "id": "DCTjwpizikwy",
    "outputId": "c8d0f4c0-60cd-4c58-bc91-3b061dae8046"
   },
   "outputs": [
    {
     "data": {
      "text/plain": [
       "Text(0.5, 1.0, 'Class labels distribution for MNIST')"
      ]
     },
     "execution_count": 7,
     "metadata": {},
     "output_type": "execute_result"
    },
    {
     "data": {
      "image/png": "[encoded data removed]",
      "text/plain": [
       "<Figure size 640x480 with 1 Axes>"
      ]
     },
     "metadata": {},
     "output_type": "display_data"
    }
   ],
   "source": [
    "import matplotlib.pyplot as plt\n",
    "\n",
    "\n",
    "# construct histogram\n",
    "all_labels = trainset.targets\n",
    "num_possible_labels = len(set(all_labels.numpy().tolist())) # this counst unique labels (so it should be = 10)\n",
    "plt.hist(all_labels, bins=num_possible_labels)\n",
    "\n",
    "# plot formatting\n",
    "plt.xticks(range(num_possible_labels))\n",
    "plt.grid()\n",
    "plt.xlabel('Label')\n",
    "plt.ylabel('Number of images')\n",
    "plt.title('Class labels distribution for MNIST')"
   ]
  },
  {
   "cell_type": "code",
   "execution_count": 8,
   "metadata": {
    "id": "ExGypiVsjMUv"
   },
   "outputs": [],
   "source": [
    "import random\n",
    "import numpy as np\n",
    "\n",
    "def visualise_n_random_examples(trainset_, n: int, verbose: bool = True):\n",
    "  # take n examples at random\n",
    "  idx =list(range(len(trainset_.data)))\n",
    "  random.shuffle(idx)\n",
    "  idx = idx[:n]\n",
    "  if verbose:\n",
    "    print(f\"will display images with idx: {idx}\")\n",
    "\n",
    "\n",
    "  # construct canvas\n",
    "  num_cols = 8\n",
    "  num_rows = int(np.ceil(len(idx)/num_cols))\n",
    "  fig, axs = plt.subplots(figsize=(16, num_rows*2), nrows=num_rows, ncols=num_cols)\n",
    "\n",
    "  # display images on canvas\n",
    "  for c_i, i in enumerate(idx):\n",
    "    axs.flat[c_i].imshow(trainset_.data[i], cmap='gray')"
   ]
  },
  {
   "attachments": {},
   "cell_type": "markdown",
   "metadata": {
    "id": "K7-K0bKamho7"
   },
   "source": [
    "Let's visualise 32 images from the dataset\n"
   ]
  },
  {
   "cell_type": "code",
   "execution_count": 9,
   "metadata": {
    "colab": {
     "base_uri": "https://localhost:8080/",
     "height": 715
    },
    "id": "xA2s8vqkmkga",
    "outputId": "4e0988a8-388d-4acf-882b-089e4ea887bf"
   },
   "outputs": [
    {
     "name": "stdout",
     "output_type": "stream",
     "text": [
      "will display images with idx: [32916, 51911, 3291, 6901, 52243, 4185, 15344, 14021, 42491, 772, 30012, 3319, 26807, 43918, 29321, 30500, 29773, 9772, 51273, 18627, 42766, 12709, 57057, 31196, 35429, 35906, 9426, 19875, 39268, 42165, 35523, 14909]\n"
     ]
    },
    {
     "data": {
      "image/png": "[encoded data removed]",
      "text/plain": [
       "<Figure size 1600x800 with 32 Axes>"
      ]
     },
     "metadata": {},
     "output_type": "display_data"
    }
   ],
   "source": [
    "# it is likely that the plot this function will generate looks familiar to other plots you might have generated before\n",
    "# or you might have encountered in other tutorials. So far, we aren't doing anytning new, Federated Learning will start soon!\n",
    "visualise_n_random_examples(trainset, n=32)"
   ]
  },
  {
   "attachments": {},
   "cell_type": "markdown",
   "metadata": {
    "id": "PmGyjFEFhVwd"
   },
   "source": [
    "# A CNN architecture\n",
    "\n",
    "Thist tutorial is not so much about novel architectural designs so we keep things simple and make use of a typical CNN that is adequate for the MNIST image classification taks.\n",
    "\n"
   ]
  },
  {
   "cell_type": "code",
   "execution_count": 10,
   "metadata": {
    "id": "Nr4jR6tspOh4"
   },
   "outputs": [],
   "source": [
    "import torch.nn as nn\n",
    "import torch.nn.functional as F\n",
    "\n",
    "class Net(nn.Module):\n",
    "    def __init__(self, num_classes: int) -> None:\n",
    "        super(Net, self).__init__()\n",
    "        self.conv1 = nn.Conv2d(1, 6, 5)\n",
    "        self.pool = nn.MaxPool2d(2, 2)\n",
    "        self.conv2 = nn.Conv2d(6, 16, 5)\n",
    "        self.fc1 = nn.Linear(16 * 4 * 4, 120)\n",
    "        self.fc2 = nn.Linear(120, 84)\n",
    "        self.fc3 = nn.Linear(84, num_classes)\n",
    "\n",
    "    def forward(self, x: torch.Tensor) -> torch.Tensor:\n",
    "        x = self.pool(F.relu(self.conv1(x)))\n",
    "        x = self.pool(F.relu(self.conv2(x)))\n",
    "        x = x.view(-1, 16 * 4 * 4)\n",
    "        x = F.relu(self.fc1(x))\n",
    "        x = F.relu(self.fc2(x))\n",
    "        x = self.fc3(x)\n",
    "        return x"
   ]
  },
  {
   "attachments": {},
   "cell_type": "markdown",
   "metadata": {
    "id": "5TJrrCBlpZOp"
   },
   "source": [
    "Similarly to what we did with the dataset you could inspect the model in various ways. We can, for instance, count the number of model parameters."
   ]
  },
  {
   "cell_type": "code",
   "execution_count": 11,
   "metadata": {
    "colab": {
     "base_uri": "https://localhost:8080/"
    },
    "id": "zdVK9c4hpYaC",
    "outputId": "67d01ab4-cdd9-4661-8f01-eaa9aabf786d"
   },
   "outputs": [
    {
     "name": "stdout",
     "output_type": "stream",
     "text": [
      "num_parameters = 44426\n"
     ]
    }
   ],
   "source": [
    "model = Net(num_classes=10)\n",
    "num_parameters = sum(value.numel() for value in model.state_dict().values())\n",
    "print(f\"{num_parameters = }\")"
   ]
  },
  {
   "attachments": {},
   "cell_type": "markdown",
   "metadata": {
    "id": "XAXzw1dlp_oO"
   },
   "source": [
    "## The Training Loop\n",
    "\n",
    "A minimal training loop in PyTorch can be constructed with three functions:\n",
    "*  `train()` that will train the model given a dataloader.\n",
    "* `test()` that will be used to evaluate the performance of the model on held-out data, e.g., a training set.\n",
    "* `run_centralised()` which will define additional elements (e.g. the optimiser) and run the training loop over N epochs.\n",
    "\n",
    "Let's construct these functions!\n"
   ]
  },
  {
   "cell_type": "code",
   "execution_count": 12,
   "metadata": {
    "id": "DRhz5bcfpw06"
   },
   "outputs": [],
   "source": [
    "def train(net, trainloader, optimizer, epochs):\n",
    "    \"\"\"Train the network on the training set.\"\"\"\n",
    "    criterion = torch.nn.CrossEntropyLoss()\n",
    "    net.train()\n",
    "    for _ in range(epochs):\n",
    "        for images, labels in trainloader:\n",
    "            optimizer.zero_grad()\n",
    "            loss = criterion(net(images), labels)\n",
    "            loss.backward()\n",
    "            optimizer.step()\n",
    "    return net\n",
    "\n",
    "def test(net, testloader):\n",
    "    \"\"\"Validate the network on the entire test set.\"\"\"\n",
    "    criterion = torch.nn.CrossEntropyLoss()\n",
    "    correct, loss = 0, 0.0\n",
    "    net.eval()\n",
    "    with torch.no_grad():\n",
    "        for images, labels in testloader:\n",
    "            outputs = net(images)\n",
    "            loss += criterion(outputs, labels).item()\n",
    "            _, predicted = torch.max(outputs.data, 1)\n",
    "            correct += (predicted == labels).sum().item()\n",
    "    accuracy = correct / len(testloader.dataset)\n",
    "    return loss, accuracy\n",
    "\n",
    "\n",
    "def run_centralised(epochs: int, lr: float, momentum: float=0.9):\n",
    "    \"\"\"A minimal (but complete) training loop\"\"\"\n",
    "\n",
    "    # instantiate the model\n",
    "    model = Net(num_classes=10)\n",
    "\n",
    "    # define optimiser with hyperparameters supplied\n",
    "    optim = torch.optim.SGD(model.parameters(), lr=lr, momentum=momentum)\n",
    "\n",
    "    # get dataset and construct a dataloaders\n",
    "    trainset, testset = get_mnist()\n",
    "    trainloader = DataLoader(trainset, batch_size=64, shuffle=True, num_workers=2)\n",
    "    testloader = DataLoader(testset, batch_size=128)\n",
    "\n",
    "    # train for the specified number of epochs\n",
    "    trained_model = train(model, trainloader, optim, epochs)\n",
    "\n",
    "    # training is completed, then evaluate model on the test set\n",
    "    loss, accuracy = test(trained_model, testloader)\n",
    "    print(f\"{loss = }\")\n",
    "    print(f\"{accuracy = }\")"
   ]
  },
  {
   "attachments": {},
   "cell_type": "markdown",
   "metadata": {
    "id": "76Q0UnqiukYT"
   },
   "source": [
    "Let's run this for 5 epochs (you'll see it reaching close to 99% accuracy -- as expected from a centralised setup with the MNIST dataset)"
   ]
  },
  {
   "cell_type": "code",
   "execution_count": 13,
   "metadata": {
    "colab": {
     "base_uri": "https://localhost:8080/"
    },
    "id": "xgJ6mdNSqzpI",
    "outputId": "e8d9b429-178d-4924-e82f-4d4e52863788"
   },
   "outputs": [
    {
     "name": "stdout",
     "output_type": "stream",
     "text": [
      "loss = 4.0773725777398795\n",
      "accuracy = 0.9839\n"
     ]
    }
   ],
   "source": [
    "run_centralised(epochs=5, lr=0.01)"
   ]
  },
  {
   "attachments": {},
   "cell_type": "markdown",
   "metadata": {
    "id": "pyz2gQaluw-5"
   },
   "source": [
    "The above centralised formulation has worked just fine for some applications and to showcase the potential of AI in a variety of scenarios. However, as was discussed earlier in the session, centralised training is unsuitable for a larger range of settings were information cannot be collected in order to build a unified (centralised) dataset.\n",
    "\n",
    "# The Future of AI is Federated\n",
    "\n",
    "What are the key differences between Federated Learning and Centralised Training? I you could only pick you, probably you'd say:\n",
    "* Federated Learning is distributed -- the model is trained on-device by the participating clients.\n",
    "* Data remains private and is owned by a specific _client_ -- the data is never sent to the central server.\n",
    "\n",
    "The are several more differences. But the above two are the main ones to always consider and that are common to all flavours of Federated Learning (e.g. _cross-device_ or _cross-silo_). The remaining of this tutorial is going to focus in transforming the code we have written so far for the centralised setting and construct a Federated Learning pipeline using Flower and PyTorch.\n",
    "\n",
    "Let's begin! 🚀"
   ]
  },
  {
   "attachments": {},
   "cell_type": "markdown",
   "metadata": {
    "id": "-Jv-H2HBzbPA"
   },
   "source": [
    "## One Client, One Data Partition\n",
    "\n",
    "To start designing a Federated Learning pipeline we need to meet one of the key properties in FL: each client has its own data partition. To acomplish this with the MNIST dataset, we are going to generate N random paritions, where N is the total number of clients in our FL system."
   ]
  },
  {
   "cell_type": "code",
   "execution_count": 14,
   "metadata": {
    "id": "Lgc5C6yltJCv"
   },
   "outputs": [],
   "source": [
    "from torch.utils.data import random_split\n",
    "\n",
    "def prepare_dataset(num_partitions: int,\n",
    "                    batch_size: int,\n",
    "                    val_ratio: float = 0.1):\n",
    "\n",
    "    \"\"\"This function partitions the training set into N disjoint\n",
    "    subsets, each will become the local dataset of a client. This\n",
    "    function also subsequently partitions each traininsetg partition\n",
    "    into train and validation. The test set is left intact and will\n",
    "    be used by the central server to asses the performance of the\n",
    "    global model. \"\"\"\n",
    "\n",
    "    # get the MNIST datatset\n",
    "    trainset, testset = get_mnist()\n",
    "\n",
    "    # split trainset into `num_partitions` trainsets\n",
    "    num_images = len(trainset) // num_partitions\n",
    "\n",
    "    partition_len = [num_images] * num_partitions\n",
    "\n",
    "    trainsets = random_split(trainset, partition_len, torch.Generator().manual_seed(2023))\n",
    "\n",
    "    # create dataloaders with train+val support\n",
    "    trainloaders = []\n",
    "    valloaders = []\n",
    "    for trainset_ in trainsets:\n",
    "        num_total = len(trainset_)\n",
    "        num_val = int(val_ratio * num_total)\n",
    "        num_train = num_total - num_val\n",
    "\n",
    "        for_train, for_val = random_split(trainset_, [num_train, num_val], torch.Generator().manual_seed(2023))\n",
    "\n",
    "        trainloaders.append(DataLoader(for_train, batch_size=batch_size, shuffle=True, num_workers=2))\n",
    "        valloaders.append(DataLoader(for_val, batch_size=batch_size, shuffle=False, num_workers=2))\n",
    "\n",
    "    # create dataloader for the test set\n",
    "    testloader = DataLoader(testset, batch_size=128)\n",
    "\n",
    "    return trainloaders, valloaders, testloader"
   ]
  },
  {
   "attachments": {},
   "cell_type": "markdown",
   "metadata": {
    "id": "9sXWjalq-G39"
   },
   "source": [
    "Let's create 100 partitions and extract some statistics from one partition\n"
   ]
  },
  {
   "cell_type": "code",
   "execution_count": 15,
   "metadata": {
    "colab": {
     "base_uri": "https://localhost:8080/",
     "height": 508
    },
    "id": "I0LbJhrC0evC",
    "outputId": "0f53ca81-cb55-46ef-c8e0-4e19a4f060b2"
   },
   "outputs": [
    {
     "name": "stdout",
     "output_type": "stream",
     "text": [
      "number of images: 540\n"
     ]
    },
    {
     "data": {
      "text/plain": [
       "Text(0.5, 1.0, 'Class labels distribution for MNIST')"
      ]
     },
     "execution_count": 15,
     "metadata": {},
     "output_type": "execute_result"
    },
    {
     "data": {
      "image/png": "[encoded data removed]",
      "text/plain": [
       "<Figure size 640x480 with 1 Axes>"
      ]
     },
     "metadata": {},
     "output_type": "display_data"
    }
   ],
   "source": [
    "trainloaders, valloaders, testloader = prepare_dataset(num_partitions=100,\n",
    "                                                       batch_size=32)\n",
    "\n",
    "# first partition\n",
    "train_partition = trainloaders[0].dataset\n",
    "\n",
    "# count data points\n",
    "partition_indices = train_partition.indices\n",
    "print(f\"number of images: {len(partition_indices)}\")\n",
    "\n",
    "# visualise histogram\n",
    "plt.hist(train_partition.dataset.dataset.targets[partition_indices], bins=10)\n",
    "plt.grid()\n",
    "plt.xticks(range(10))\n",
    "plt.xlabel('Label')\n",
    "plt.ylabel('Number of images')\n",
    "plt.title('Class labels distribution for MNIST')"
   ]
  },
  {
   "attachments": {},
   "cell_type": "markdown",
   "metadata": {
    "id": "me-cNRBO_-fa"
   },
   "source": [
    "As you can see, the histogram of this partition is a bit different from the one we obtained at the beginnig where we took the entire dataset into consideration. Because our data partitions are artificially constructed by sampling the MNIST dataset in an IID fashion, our Federated Learning example will not face sever _data heterogeneity_ issues (which is a fairly [active research topic](https://arxiv.org/abs/1912.04977)).\n",
    "\n",
    "Let's next define how our FL clients will behave\n",
    "\n",
    "## Defining a Flower Client\n",
    "\n",
    "You can think of a client in FL as an entity that owns some data and trains a model using this data. The caveat is that the model is being trained _collaboratively_ in Federation by multiple clients (sometimes up to hundreds of thousands) and, in most instances of FL, is sent by a central server.\n",
    "\n",
    "A Flower Client is a simmple Python class with four distinct methods:\n",
    "\n",
    "* `fit()`: With this method, the client does on-device training for a number of epochs using its own data. At the end, the resulting model is sent back to the server for aggregation.\n",
    "\n",
    "* `evaluate()`: With this method, the server can evaluate the performance of the global model on the local validation set of a client. This can be used for instance when there is no centralised dataset on the server for validation/test. Also, this method can be use to asses the degree of personalisation of the model being federated.\n",
    "\n",
    "* `set_parameters()`: This method takes the parameters sent by the server and uses them to initialise the parameters of the lcoal model that is ML framework specific (e.g. TF, Pytorch, etc).\n",
    "\n",
    "* `get_parameters()`: It extract the parameters from the local model and transforms them into a list of NumPy arrays. This ML framework-agnostic representation of the model will be sent to the server.\n",
    "\n",
    "Let's start by importing Flower!"
   ]
  },
  {
   "cell_type": "code",
   "execution_count": 16,
   "metadata": {
    "id": "GckcVE2hH5UV"
   },
   "outputs": [],
   "source": [
    "import flwr as fl"
   ]
  },
  {
   "attachments": {},
   "cell_type": "markdown",
   "metadata": {
    "id": "w3zwIYgVH5wU"
   },
   "source": [
    "Now let's defice our Flower Client class:"
   ]
  },
  {
   "cell_type": "code",
   "execution_count": 17,
   "metadata": {
    "id": "uXdiNmCE_90y"
   },
   "outputs": [],
   "source": [
    "from collections import OrderedDict\n",
    "from typing import Dict, Tuple\n",
    "\n",
    "import torch\n",
    "from flwr.common import NDArrays, Scalar\n",
    "\n",
    "class FlowerClient(fl.client.NumPyClient):\n",
    "    def __init__(self,\n",
    "                 trainloader,\n",
    "                 vallodaer) -> None:\n",
    "        super().__init__()\n",
    "\n",
    "        self.trainloader = trainloader\n",
    "        self.valloader = vallodaer\n",
    "        self.model = Net(num_classes=10)\n",
    "\n",
    "    def set_parameters(self, parameters):\n",
    "        \"\"\"With the model paramters received from the server,\n",
    "        overwrite the uninitialise model in this class with them.\"\"\"\n",
    "\n",
    "        params_dict = zip(self.model.state_dict().keys(), parameters)\n",
    "        state_dict = OrderedDict({k: torch.Tensor(v) for k, v in params_dict})\n",
    "        # now replace the parameters\n",
    "        self.model.load_state_dict(state_dict, strict=True)\n",
    "\n",
    "    def get_parameters(self, config: Dict[str, Scalar]):\n",
    "        \"\"\"Extract all model parameters and conver them to a list of\n",
    "        NumPy arryas. The server doesn't work with PyTorch/TF/etc.\"\"\"\n",
    "        return [val.cpu().numpy() for _, val in self.model.state_dict().items()]\n",
    "\n",
    "    def fit(self, parameters, config):\n",
    "        \"\"\"This method train the model using the parameters sent by the\n",
    "        server on the dataset of this client. At then end, the parameters\n",
    "        of the locally trained model are communicated back to the server\"\"\"\n",
    "\n",
    "        # copy parameters sent by the server into client's local model\n",
    "        self.set_parameters(parameters)\n",
    "\n",
    "        # Define the optimizer -------------------------------------------------------------- Essentaillly the same as in the centralised example above\n",
    "        optim = torch.optim.SGD(self.model.parameters(), lr=0.01, momentum=0.9)\n",
    "\n",
    "        # do local training  -------------------------------------------------------------- Essentaillly the same as in the centralised example above (but now using the client's data instead of the whole dataset)\n",
    "        train(self.model, self.trainloader, optim, epochs=1)\n",
    "\n",
    "        # return the model parameters to the server as well as extra info (number of training examples in this case)\n",
    "        return self.get_parameters({}), len(self.trainloader), {}\n",
    "\n",
    "    def evaluate(self, parameters: NDArrays, config: Dict[str, Scalar]):\n",
    "        \"\"\"Evaluate the model sent by the server on this client's\n",
    "        local validation set. Then return performance metrics.\"\"\"\n",
    "\n",
    "        self.set_parameters(parameters)\n",
    "        loss, accuracy = test(self.model, self.valloader) # <-------------------------- calls the `test` function, just what we did in the centralised setting (but this time using the client's local validation set)\n",
    "        # send statistics back to the server\n",
    "        return float(loss), len(self.valloader), {'accuracy': accuracy}"
   ]
  },
  {
   "attachments": {},
   "cell_type": "markdown",
   "metadata": {
    "id": "d5Ku-Z_1Jkvz"
   },
   "source": [
    "Spend a few minutes to inspect the `FlowerClient` class above. Please ask questions if there is something unclear !\n",
    "\n",
    "Then keeneyed among you might have realised that if we were to fuse the client's `fit()` and `evaluate()` methods, we'll end up with essentially the same as in the `run_centralised()` function we used in the Centralised Training part of this tutorial. And it is true!! In Federated Learning, the way clients perform local training makes use of the same principles as more traditional centralised setup. The key difference is that the dataset now is much smaller and it's never _\"seen\"_ by the entity running the FL workload (i.e. the central server).\n",
    "\n",
    "\n",
    "Talking baout the central server... we should define what strategy we want to make use of so the updated models sent from the clients back to the server at the end of the `fit()` method are aggregate.\n",
    "\n",
    "\n",
    "## Chosing a Flower Strategy\n",
    "\n",
    "\n",
    "A strategy sits at the core of the Federated Learining experiment. It is involved in all stages of a FL pipeline: sampling clients; sending the _global model_ to the clients so they can do `fit()`; receive the updated models from the clients and **aggregate** these to construct a new _global model_; define and exectue global or federated evaluation; and more.\n",
    "\n",
    "Flower comes with [many strategies built-in](https://github.com/adap/flower/tree/main/src/py/flwr/server/strategy) and more to be avaialable in the next release (`1.5` already!). For this tutorial, let's use what is arguable the most popular strategy out there: `FedAvg`.\n",
    "\n",
    "The way `FedAvg` works is simple but performs surprisingly well in practice. It is therefore one good strategy to start your experimentation. `FedAvg`, as its name implies, derieves a new version of the _global model_ by taking the average of all the models sent by clients participating in the round. You can read all the details [in the paper](https://arxiv.org/abs/1602.05629).\n",
    "\n",
    "Let's see how we can define `FedAvg` using Flower. We use one of the callbacks called `evaluate_fn` so we can easily evaluate the state of the global model using a small centralised testset. Note this functionality is user-defined since it requires a choice in terms of ML-framework. (if you recall, Flower is framework agnostic).\n",
    "\n",
    "> This being said, centralised evaluation of the global model is only possible if there exists a centralised dataset that somewhat follows a similar distribution as the data that's spread across clients. In some cases having such centralised dataset for validation is not possible, so the only solution is to federate the evaluation of the _global model_. This is the default behaviour in Flower. If you don't specify teh `evaluate_fn` arguemtn in your strategy, then, centralised global evaluation won't be perfromed."
   ]
  },
  {
   "cell_type": "code",
   "execution_count": 18,
   "metadata": {
    "id": "gUmUpH5t-Urn"
   },
   "outputs": [],
   "source": [
    "def get_evalulate_fn(testloader):\n",
    "    \"\"\"This is a function that returns a function. The returned\n",
    "    function (i.e. `evaluate_fn`) will be exectued by the strategy\n",
    "    at the end of each round to evaluate the stat of the global\n",
    "    model.\"\"\"\n",
    "    def evaluate_fn(server_round: int, parameters, config):\n",
    "        \"\"\"This function is executed by the strategy it will instantiate\n",
    "        a model and replace its parameters with those from the global model.\n",
    "        The, the model will be evaluate on the test set (recall this is the\n",
    "        whole MNIST test set).\"\"\"\n",
    "\n",
    "        model = Net(num_classes=10)\n",
    "\n",
    "        # set parameters to the model\n",
    "        params_dict = zip(model.state_dict().keys(), parameters)\n",
    "        state_dict = OrderedDict({k: torch.Tensor(v) for k, v in params_dict})\n",
    "        model.load_state_dict(state_dict, strict=True)\n",
    "\n",
    "        # call test\n",
    "        loss, accuracy = test(model, testloader) # <-------------------------- calls the `test` function, just what we did in the centralised setting\n",
    "        return loss, {\"accuracy\": accuracy}\n",
    "\n",
    "    return evaluate_fn\n",
    "\n",
    "\n",
    "# now we can define the strategy\n",
    "strategy = fl.server.strategy.FedAvg(fraction_fit=0.1, # let's sample 10% of the client each round to do local training\n",
    "                                      fraction_evaluate=0.1, # after each round, let's sample 20% of the clients to asses how well the global model is doing\n",
    "                                      min_available_clients=100, # total number of clients available in the experiment\n",
    "                                      evaluate_fn=get_evalulate_fn(testloader)) # a callback to a function that the strategy can execute to evaluate the state of the global model on a centralised dataset\n"
   ]
  },
  {
   "attachments": {},
   "cell_type": "markdown",
   "metadata": {
    "id": "4UV_kBVGRbQT"
   },
   "source": [
    "So far we have:\n",
    "* created the dataset partitions (one for each client)\n",
    "* defined the client class\n",
    "* decided on a strategy to use\n",
    "\n",
    "Now we just need to launch the Flower FL experiment... not so fast! just one final function: let's create another callback that the Simulation Engine will use in order to span VirtualClients. As you can see this is really simple: construct a FlowerClient object, assigning each their own data partition."
   ]
  },
  {
   "cell_type": "code",
   "execution_count": 19,
   "metadata": {
    "id": "frPHAxUg-3Ev"
   },
   "outputs": [],
   "source": [
    "def generate_client_fn(trainloaders, valloaders):\n",
    "    def client_fn(cid: str):\n",
    "        \"\"\"Returns a FlowerClient containing the cid-th data partition\"\"\"\n",
    "\n",
    "        return FlowerClient(trainloader=trainloaders[int(cid)],\n",
    "                            vallodaer=valloaders[int(cid)])\n",
    "    return client_fn\n",
    "\n",
    "client_fn_callback = generate_client_fn(trainloaders, valloaders)"
   ]
  },
  {
   "attachments": {},
   "cell_type": "markdown",
   "metadata": {
    "id": "uJ0swdTqSyuA"
   },
   "source": [
    "Now we are ready to launch the FL experiment using Flower simulation:"
   ]
  },
  {
   "cell_type": "code",
   "execution_count": 20,
   "metadata": {
    "colab": {
     "base_uri": "https://localhost:8080/"
    },
    "id": "VpXEG9cxR9vu",
    "outputId": "9ad8dcea-8004-4c6e-a025-e168da636c88"
   },
   "outputs": [
    {
     "name": "stderr",
     "output_type": "stream",
     "text": [
      "INFO flwr 2023-08-27 11:06:34,259 | app.py:146 | Starting Flower simulation, config: ServerConfig(num_rounds=10, round_timeout=None)\n",
      "2023-08-27 11:06:42,683\tINFO worker.py:1621 -- Started a local Ray instance.\n",
      "INFO flwr 2023-08-27 11:06:47,558 | app.py:180 | Flower VCE: Ray initialized with resources: {'GPU': 1.0, 'node:127.0.0.1': 1.0, 'object_store_memory': 5618812108.0, 'memory': 11237624219.0, 'CPU': 12.0, 'node:__internal_head__': 1.0}\n",
      "INFO flwr 2023-08-27 11:06:47,560 | server.py:86 | Initializing global parameters\n",
      "INFO flwr 2023-08-27 11:06:47,561 | server.py:273 | Requesting initial parameters from one random client\n",
      "INFO flwr 2023-08-27 11:06:49,356 | server.py:277 | Received initial parameters from one random client\n",
      "INFO flwr 2023-08-27 11:06:49,358 | server.py:88 | Evaluating initial parameters\n",
      "INFO flwr 2023-08-27 11:06:51,897 | server.py:91 | initial parameters (loss, other metrics): 181.86338257789612, {'accuracy': 0.0971}\n",
      "INFO flwr 2023-08-27 11:06:51,899 | server.py:101 | FL starting\n",
      "DEBUG flwr 2023-08-27 11:06:51,900 | server.py:218 | fit_round 1: strategy sampled 10 clients (out of 100)\n",
      "DEBUG flwr 2023-08-27 11:07:09,063 | server.py:232 | fit_round 1 received 10 results and 0 failures\n",
      "WARNING flwr 2023-08-27 11:07:09,087 | fedavg.py:243 | No fit_metrics_aggregation_fn provided\n",
      "INFO flwr 2023-08-27 11:07:11,570 | server.py:119 | fit progress: (1, 180.3055419921875, {'accuracy': 0.2173}, 19.670092000000068)\n",
      "DEBUG flwr 2023-08-27 11:07:11,571 | server.py:168 | evaluate_round 1: strategy sampled 10 clients (out of 100)\n",
      "DEBUG flwr 2023-08-27 11:07:30,169 | server.py:182 | evaluate_round 1 received 10 results and 0 failures\n",
      "WARNING flwr 2023-08-27 11:07:30,171 | fedavg.py:274 | No evaluate_metrics_aggregation_fn provided\n",
      "DEBUG flwr 2023-08-27 11:07:30,173 | server.py:218 | fit_round 2: strategy sampled 10 clients (out of 100)\n",
      "DEBUG flwr 2023-08-27 11:07:45,157 | server.py:232 | fit_round 2 received 10 results and 0 failures\n",
      "INFO flwr 2023-08-27 11:07:47,741 | server.py:119 | fit progress: (2, 177.65000796318054, {'accuracy': 0.294}, 55.84151470000006)\n",
      "DEBUG flwr 2023-08-27 11:07:47,743 | server.py:168 | evaluate_round 2: strategy sampled 10 clients (out of 100)\n",
      "DEBUG flwr 2023-08-27 11:08:06,988 | server.py:182 | evaluate_round 2 received 10 results and 0 failures\n",
      "DEBUG flwr 2023-08-27 11:08:06,990 | server.py:218 | fit_round 3: strategy sampled 10 clients (out of 100)\n",
      "DEBUG flwr 2023-08-27 11:08:26,550 | server.py:232 | fit_round 3 received 10 results and 0 failures\n",
      "INFO flwr 2023-08-27 11:08:28,846 | server.py:119 | fit progress: (3, 169.64343452453613, {'accuracy': 0.4104}, 96.94656110000005)\n",
      "DEBUG flwr 2023-08-27 11:08:28,848 | server.py:168 | evaluate_round 3: strategy sampled 10 clients (out of 100)\n",
      "DEBUG flwr 2023-08-27 11:08:42,943 | server.py:182 | evaluate_round 3 received 10 results and 0 failures\n",
      "DEBUG flwr 2023-08-27 11:08:42,943 | server.py:218 | fit_round 4: strategy sampled 10 clients (out of 100)\n",
      "DEBUG flwr 2023-08-27 11:09:02,809 | server.py:232 | fit_round 4 received 10 results and 0 failures\n",
      "INFO flwr 2023-08-27 11:09:05,356 | server.py:119 | fit progress: (4, 132.14404773712158, {'accuracy': 0.6239}, 133.4562542000001)\n",
      "DEBUG flwr 2023-08-27 11:09:05,357 | server.py:168 | evaluate_round 4: strategy sampled 10 clients (out of 100)\n",
      "DEBUG flwr 2023-08-27 11:09:19,451 | server.py:182 | evaluate_round 4 received 10 results and 0 failures\n",
      "DEBUG flwr 2023-08-27 11:09:19,453 | server.py:218 | fit_round 5: strategy sampled 10 clients (out of 100)\n",
      "DEBUG flwr 2023-08-27 11:09:38,508 | server.py:232 | fit_round 5 received 10 results and 0 failures\n",
      "INFO flwr 2023-08-27 11:09:41,047 | server.py:119 | fit progress: (5, 66.3523625433445, {'accuracy': 0.7632}, 169.14747869999997)\n",
      "DEBUG flwr 2023-08-27 11:09:41,048 | server.py:168 | evaluate_round 5: strategy sampled 10 clients (out of 100)\n",
      "DEBUG flwr 2023-08-27 11:10:04,567 | server.py:182 | evaluate_round 5 received 10 results and 0 failures\n",
      "DEBUG flwr 2023-08-27 11:10:04,569 | server.py:218 | fit_round 6: strategy sampled 10 clients (out of 100)\n",
      "DEBUG flwr 2023-08-27 11:10:24,292 | server.py:232 | fit_round 6 received 10 results and 0 failures\n",
      "INFO flwr 2023-08-27 11:10:27,078 | server.py:119 | fit progress: (6, 47.526455730199814, {'accuracy': 0.82}, 215.17807620000008)\n",
      "DEBUG flwr 2023-08-27 11:10:27,080 | server.py:168 | evaluate_round 6: strategy sampled 10 clients (out of 100)\n",
      "DEBUG flwr 2023-08-27 11:10:46,281 | server.py:182 | evaluate_round 6 received 10 results and 0 failures\n",
      "DEBUG flwr 2023-08-27 11:10:46,283 | server.py:218 | fit_round 7: strategy sampled 10 clients (out of 100)\n",
      "DEBUG flwr 2023-08-27 11:11:09,566 | server.py:232 | fit_round 7 received 10 results and 0 failures\n",
      "INFO flwr 2023-08-27 11:11:12,059 | server.py:119 | fit progress: (7, 37.34474366903305, {'accuracy': 0.8659}, 260.1595278)\n",
      "DEBUG flwr 2023-08-27 11:11:12,061 | server.py:168 | evaluate_round 7: strategy sampled 10 clients (out of 100)\n",
      "DEBUG flwr 2023-08-27 11:11:27,746 | server.py:182 | evaluate_round 7 received 10 results and 0 failures\n",
      "DEBUG flwr 2023-08-27 11:11:27,747 | server.py:218 | fit_round 8: strategy sampled 10 clients (out of 100)\n",
      "DEBUG flwr 2023-08-27 11:11:50,371 | server.py:232 | fit_round 8 received 10 results and 0 failures\n",
      "INFO flwr 2023-08-27 11:11:53,221 | server.py:119 | fit progress: (8, 33.29690347611904, {'accuracy': 0.8721}, 301.32166069999994)\n",
      "DEBUG flwr 2023-08-27 11:11:53,223 | server.py:168 | evaluate_round 8: strategy sampled 10 clients (out of 100)\n",
      "DEBUG flwr 2023-08-27 11:12:12,982 | server.py:182 | evaluate_round 8 received 10 results and 0 failures\n",
      "DEBUG flwr 2023-08-27 11:12:12,983 | server.py:218 | fit_round 9: strategy sampled 10 clients (out of 100)\n",
      "DEBUG flwr 2023-08-27 11:12:31,820 | server.py:232 | fit_round 9 received 10 results and 0 failures\n",
      "INFO flwr 2023-08-27 11:12:34,206 | server.py:119 | fit progress: (9, 27.204719327390194, {'accuracy': 0.8987}, 342.30581359999996)\n",
      "DEBUG flwr 2023-08-27 11:12:34,208 | server.py:168 | evaluate_round 9: strategy sampled 10 clients (out of 100)\n",
      "DEBUG flwr 2023-08-27 11:12:48,502 | server.py:182 | evaluate_round 9 received 10 results and 0 failures\n",
      "DEBUG flwr 2023-08-27 11:12:48,504 | server.py:218 | fit_round 10: strategy sampled 10 clients (out of 100)\n",
      "DEBUG flwr 2023-08-27 11:13:08,063 | server.py:232 | fit_round 10 received 10 results and 0 failures\n",
      "INFO flwr 2023-08-27 11:13:10,472 | server.py:119 | fit progress: (10, 24.251998730003834, {'accuracy': 0.9132}, 378.57225530000005)\n",
      "DEBUG flwr 2023-08-27 11:13:10,474 | server.py:168 | evaluate_round 10: strategy sampled 10 clients (out of 100)\n",
      "DEBUG flwr 2023-08-27 11:13:29,720 | server.py:182 | evaluate_round 10 received 10 results and 0 failures\n",
      "INFO flwr 2023-08-27 11:13:29,722 | server.py:147 | FL finished in 397.8224461\n",
      "INFO flwr 2023-08-27 11:13:29,724 | app.py:220 | app_fit: losses_distributed [(1, 4.569838881492615), (2, 4.493675303459168), (3, 4.307543540000916), (4, 3.3277480363845826), (5, 1.7082388639450072), (6, 1.2337680280208587), (7, 0.9572934538125992), (8, 0.9478153944015503), (9, 0.7831743866205215), (10, 0.6921346798539162)]\n",
      "INFO flwr 2023-08-27 11:13:29,726 | app.py:221 | app_fit: metrics_distributed_fit {}\n",
      "INFO flwr 2023-08-27 11:13:29,727 | app.py:223 | app_fit: metrics_distributed {}\n",
      "INFO flwr 2023-08-27 11:13:29,728 | app.py:224 | app_fit: losses_centralized [(0, 181.86338257789612), (1, 180.3055419921875), (2, 177.65000796318054), (3, 169.64343452453613), (4, 132.14404773712158), (5, 66.3523625433445), (6, 47.526455730199814), (7, 37.34474366903305), (8, 33.29690347611904), (9, 27.204719327390194), (10, 24.251998730003834)]\n",
      "INFO flwr 2023-08-27 11:13:29,730 | app.py:225 | app_fit: metrics_centralized {'accuracy': [(0, 0.0971), (1, 0.2173), (2, 0.294), (3, 0.4104), (4, 0.6239), (5, 0.7632), (6, 0.82), (7, 0.8659), (8, 0.8721), (9, 0.8987), (10, 0.9132)]}\n"
     ]
    }
   ],
   "source": [
    "history = fl.simulation.start_simulation(\n",
    "    client_fn=client_fn_callback, # a callback to construct a client\n",
    "    num_clients=100, # total number of clients in the experiment\n",
    "    config=fl.server.ServerConfig(num_rounds=10), # let's run for 10 rounds\n",
    "    strategy=strategy, # the strategy that will orchestrate the whole FL pipeline\n",
    ")"
   ]
  },
  {
   "attachments": {},
   "cell_type": "markdown",
   "metadata": {
    "id": "2hLLbDCEUat7"
   },
   "source": [
    "Doing 10 rounds should take less than 2 minutes on a CPU-only Colab instance <-- Flower Simulation is fast! 🚀\n",
    "\n",
    "You can then use the resturned `History` object to either save the results to disk or do some visualisation (or both of course, or neither if you like chaos). Below you can see how you can plot the centralised accuracy obtainined at the end of each round (including at the very beginning of the experiment) for the _global model_. This is want the function `evaluate_fn()` that we passed to the strategy reports."
   ]
  },
  {
   "cell_type": "code",
   "execution_count": 21,
   "metadata": {
    "colab": {
     "base_uri": "https://localhost:8080/",
     "height": 508
    },
    "id": "EQ8GnlFVTJkF",
    "outputId": "d8eab106-cee9-4266-9082-0944882cdba8"
   },
   "outputs": [
    {
     "name": "stdout",
     "output_type": "stream",
     "text": [
      "history.metrics_centralized = {'accuracy': [(0, 0.0971), (1, 0.2173), (2, 0.294), (3, 0.4104), (4, 0.6239), (5, 0.7632), (6, 0.82), (7, 0.8659), (8, 0.8721), (9, 0.8987), (10, 0.9132)]}\n"
     ]
    },
    {
     "data": {
      "text/plain": [
       "Text(0.5, 1.0, 'MNIST - IID - 100 clients with 10 clients per round')"
      ]
     },
     "execution_count": 21,
     "metadata": {},
     "output_type": "execute_result"
    },
    {
     "data": {
      "image/png": "[encoded data removed]",
      "text/plain": [
       "<Figure size 640x480 with 1 Axes>"
      ]
     },
     "metadata": {},
     "output_type": "display_data"
    }
   ],
   "source": [
    "print(f\"{history.metrics_centralized = }\")\n",
    "\n",
    "global_accuracy_centralised = history.metrics_centralized['accuracy']\n",
    "round = [data[0] for data in global_accuracy_centralised]\n",
    "acc = [100.0*data[1] for data in global_accuracy_centralised]\n",
    "plt.plot(round, acc)\n",
    "plt.grid()\n",
    "plt.ylabel('Accuracy (%)')\n",
    "plt.xlabel('Round')\n",
    "plt.title('MNIST - IID - 100 clients with 10 clients per round')"
   ]
  },
  {
   "cell_type": "code",
   "execution_count": 21,
   "metadata": {
    "id": "b5oglJPNURQE"
   },
   "outputs": [],
   "source": [
    "import os\n",
    "import time\n",
    "import torch\n",
    "from collections import OrderedDict\n",
    "import flwr as fl\n",
    "\n",
    "class FlowerClient(fl.client.NumPyClient):\n",
    "    \"\"\"\n",
    "    FlowerClient class for federated learning. This class implements the methods required for federated learning,\n",
    "    where each client owns a portion of the total data and trains a model on its own data.\n",
    "    \"\"\"\n",
    "    def __init__(self, model_folder, fed_model_dir):\n",
    "        \"\"\"\n",
    "        Initialize the FlowerClient.\n",
    "        Args:\n",
    "            model_folder (str): Directory where the local model parameters are stored.\n",
    "            fed_model_dir (str): Directory where the federated model parameters are stored.\n",
    "        \"\"\"\n",
    "        self.model_folder = model_folder\n",
    "        self.fed_model_dir = fed_model_dir\n",
    "        self.latest_model_file = self.get_latest_model_file()\n",
    "        self.latest_fed_model_file = \"\"\n",
    "\n",
    "    def get_latest_model_file(self):\n",
    "        model_files = [os.path.join(self.model_folder, f) for f in os.listdir(self.model_folder) if os.path.isfile(os.path.join(self.model_folder, f))]\n",
    "        return max(model_files, key=os.path.getctime) if model_files else \"\"\n",
    "\n",
    "    def get_parameters(self):\n",
    "        \"\"\"\n",
    "        Get the parameters of the model.\n",
    "        Returns:\n",
    "            parameters (list): List of the model parameters.\n",
    "        \"\"\"\n",
    "        if self.latest_model_file:\n",
    "            state_dict = torch.load(self.latest_model_file)\n",
    "            parameters = [val.cpu().numpy() for _, val in state_dict.items()]\n",
    "            return parameters\n",
    "        else:\n",
    "            raise FileNotFoundError(\"No model files found in the model folder.\")\n",
    "\n",
    "    def set_parameters(self, parameters):\n",
    "        \"\"\"\n",
    "        Set the parameters of the model.\n",
    "        Args:\n",
    "            parameters (list): List of the model parameters.\n",
    "        \"\"\"\n",
    "        # Create a new dictionary to hold the parameter tensors\n",
    "        state_dict = OrderedDict({k: torch.Tensor(v) for k, v in zip(parameters.keys(), parameters.values())})\n",
    "        \n",
    "        # Generate a unique filename based on the current time\n",
    "        self.latest_fed_model_file = os.path.join(self.fed_model_dir, f\"fed_model_{time.time()}.pt\")\n",
    "        \n",
    "        # Save the model parameters to the file\n",
    "        torch.save(state_dict, self.latest_fed_model_file)\n",
    "\n",
    "    def fit(self, parameters, config):\n",
    "        \"\"\"\n",
    "        Fit the model on the client's data.\n",
    "        Args:\n",
    "            parameters (list): List of the model parameters.\n",
    "            config (dict): Configuration dictionary.\n",
    "        Returns:\n",
    "            parameters (list): List of the updated model parameters.\n",
    "            len(self.trainloader) (int): Length of the training data loader.\n",
    "            {} (dict): Empty dictionary.\n",
    "        \"\"\"\n",
    "        # self.set_parameters(parameters)\n",
    "        while self.latest_model_file == self.get_latest_model_file():\n",
    "            time.sleep(1)\n",
    "        self.latest_model_file = self.get_latest_model_file()\n",
    "        \n",
    "        # Assuming self.trainloader is defined elsewhere in your program\n",
    "        # Here we're only returning the latest parameters without further training\n",
    "        return self.get_parameters(), 0, {}\n",
    "\n",
    "    def evaluate(self, parameters, config):\n",
    "        \"\"\"\n",
    "        Evaluate the model on the client's data.\n",
    "        Args:\n",
    "            parameters (list): List of the model parameters.\n",
    "            config (dict): Configuration dictionary.\n",
    "        Returns:\n",
    "            float(loss) (float): Loss of the model.\n",
    "            len(self.valloader) (int): Length of the validation data loader.\n",
    "            {'accuracy': accuracy} (dict): Dictionary with the accuracy of the model.\n",
    "        \"\"\"\n",
    "        self.set_parameters(parameters)\n",
    "        \n",
    "        # Here, you'd perform your evaluation using self.valloader, calculate loss and accuracy\n",
    "        # Assuming loss and accuracy are computed elsewhere in your code.\n",
    "        # If not, you'd need to integrate your evaluation logic here to calculate loss and accuracy.\n",
    "        \n",
    "        # Placeholder values, replace with actual loss and accuracy computation\n",
    "        loss = 0.0  \n",
    "        accuracy = 0.0  \n",
    "\n",
    "        # Assuming self.valloader is defined elsewhere in your program\n",
    "        return float(loss), 0, {'accuracy': accuracy}\n",
    "\n",
    "if __name__ == \"__main__\":\n",
    "    # Initialize the FlowerClient\n",
    "    client = FlowerClient(model_folder=\"model_folder_path\", fed_model_dir=\"fed_model_folder_path\")\n",
    "    # Start the client with the FedAvg aggregation function\n",
    "    fl.client.start_numpy_client(\"[::]:8080\", client)\n"
   ]
  }
 ],
 "metadata": {
  "colab": {
   "provenance": [],
   "toc_visible": true
  },
  "kernelspec": {
   "display_name": "Python 3",
   "name": "python3"
  },
  "language_info": {
   "name": "python",
   "version": "3.10.10"
  }
 },
 "nbformat": 4,
 "nbformat_minor": 0
}
